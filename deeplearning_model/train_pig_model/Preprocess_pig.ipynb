{
  "nbformat": 4,
  "nbformat_minor": 0,
  "metadata": {
    "kernelspec": {
      "display_name": "Python 3",
      "language": "python",
      "name": "python3"
    },
    "language_info": {
      "codemirror_mode": {
        "name": "ipython",
        "version": 3
      },
      "file_extension": ".py",
      "mimetype": "text/x-python",
      "name": "python",
      "nbconvert_exporter": "python",
      "pygments_lexer": "ipython3",
      "version": "3.8.5"
    },
    "colab": {
      "name": "Preprocess_pig.ipynb",
      "provenance": [],
      "collapsed_sections": [],
      "machine_shape": "hm"
    },
    "accelerator": "GPU"
  },
  "cells": [
    {
      "cell_type": "markdown",
      "metadata": {
        "id": "xKZhOqg7BZDW"
      },
      "source": [
        "## # Preprocessing.ipynb\n",
        "\n",
        "### # from Raw to Preprocessed_for_classification"
      ]
    },
    {
      "cell_type": "code",
      "metadata": {
        "id": "mEJBT86oBZDZ"
      },
      "source": [
        "import sys\n",
        "import os\n",
        "import os.path as osp\n",
        "import re\n",
        "from glob import glob\n",
        "import shutil\n",
        "\n",
        "import numpy as np\n",
        "import pandas as pd\n",
        "\n",
        "from tqdm import tqdm, tqdm_notebook\n",
        "\n",
        "from sklearn.model_selection import train_test_split"
      ],
      "execution_count": null,
      "outputs": []
    },
    {
      "cell_type": "code",
      "metadata": {
        "colab": {
          "base_uri": "https://localhost:8080/"
        },
        "id": "RSNM5VSjCNdm",
        "outputId": "1927a0f8-7648-421e-a847-d2c79bb409af"
      },
      "source": [
        "from google.colab import drive\n",
        "\n",
        "drive.mount(\"/content/drive\")\n",
        "# dataset path\n",
        "base_dir = \"/content/drive/My Drive/Colab Notebooks/dataset/\""
      ],
      "execution_count": null,
      "outputs": [
        {
          "output_type": "stream",
          "text": [
            "Mounted at /content/drive\n"
          ],
          "name": "stdout"
        }
      ]
    },
    {
      "cell_type": "code",
      "metadata": {
        "colab": {
          "base_uri": "https://localhost:8080/"
        },
        "id": "ckXmK6_1BZDa",
        "outputId": "8c46adcc-302a-4b09-85ca-0ddefa708453"
      },
      "source": [
        "import os\n",
        "base_PATH='/content/drive/My Drive/Colab Notebooks/pigData/train/'\n",
        "\n",
        "total_path = glob(osp.join(base_PATH, '*', '*'))\n",
        "print( len(total_path) )\n"
      ],
      "execution_count": null,
      "outputs": [
        {
          "output_type": "stream",
          "text": [
            "8521\n",
            "/content/drive/My Drive/Colab Notebooks/pigData/train/pig_2/QC_pig_segmentation_2_002115.jpg\n",
            "/content/drive/My Drive/Colab Notebooks/pigData/train/pig_2/QC_pig_segmentation_2_002116.jpg\n",
            "/content/drive/My Drive/Colab Notebooks/pigData/train/pig_2/QC_pig_segmentation_2_002121.jpg\n",
            "/content/drive/My Drive/Colab Notebooks/pigData/train/pig_2/QC_pig_segmentation_2_002124.jpg\n",
            "/content/drive/My Drive/Colab Notebooks/pigData/train/pig_2/QC_pig_segmentation_2_002131.jpg\n",
            "/content/drive/My Drive/Colab Notebooks/pigData/train/pig_2/QC_pig_segmentation_2_002132.jpg\n",
            "/content/drive/My Drive/Colab Notebooks/pigData/train/pig_2/QC_pig_segmentation_2_002135.jpg\n",
            "/content/drive/My Drive/Colab Notebooks/pigData/train/pig_2/QC_pig_segmentation_2_002141.jpg\n",
            "/content/drive/My Drive/Colab Notebooks/pigData/train/pig_2/QC_pig_segmentation_2_002142.jpg\n",
            "/content/drive/My Drive/Colab Notebooks/pigData/train/pig_2/QC_pig_segmentation_2_002145.jpg\n"
          ],
          "name": "stdout"
        }
      ]
    },
    {
      "cell_type": "code",
      "metadata": {
        "colab": {
          "base_uri": "https://localhost:8080/"
        },
        "id": "MRKCOgyXBZDb",
        "outputId": "632e375f-fa76-4b8a-e5f2-540f64d41346"
      },
      "source": [
        "df_full=pd.DataFrame(columns=['label', 'image_path'])\n",
        "\n",
        "for path in tqdm(total_path):\n",
        "    # 이미지 경로에서 label 추출\n",
        "    label=path.split('/')[-2]\n",
        "    # label과 image_path 의 dictionary 생성\n",
        "    dict_={'label': label, 'image_path': path}\n",
        "    df_full=df_full.append(dict_, ignore_index=True)"
      ],
      "execution_count": null,
      "outputs": [
        {
          "output_type": "stream",
          "text": [
            "100%|██████████| 8521/8521 [00:17<00:00, 496.17it/s]\n"
          ],
          "name": "stderr"
        }
      ]
    },
    {
      "cell_type": "code",
      "metadata": {
        "id": "xjJdQdmkBZDb"
      },
      "source": [
        "# train, validation, test set 분할  8 : 1 : 1\n",
        "train_val, test, _,_=train_test_split(df_full, df_full['label'], test_size=0.1, stratify=df_full['label'], random_state=42)\n",
        "\n",
        "train, val, _,_=train_test_split(train_val, train_val['label'], test_size=0.111, stratify=train_val['label'])"
      ],
      "execution_count": null,
      "outputs": []
    },
    {
      "cell_type": "code",
      "metadata": {
        "colab": {
          "base_uri": "https://localhost:8080/"
        },
        "id": "tWoB00JPBZDc",
        "outputId": "427b6999-cfaf-4c79-a422-9781dc9ad20a"
      },
      "source": [
        "print(f\"Train set size: {len(train)}\")\n",
        "print(f\"Validation set size: {len(val)}\")\n",
        "print(f\"Test set size: {len(test)}\")"
      ],
      "execution_count": null,
      "outputs": [
        {
          "output_type": "stream",
          "text": [
            "Train set size: 6816\n",
            "Validation set size: 852\n",
            "Test set size: 853\n"
          ],
          "name": "stdout"
        }
      ]
    },
    {
      "cell_type": "code",
      "metadata": {
        "id": "P64cs4AFBZDc"
      },
      "source": [
        "folder_list=['train','val','test']\n",
        "dst_base_PATH='/content/drive/My Drive/Colab Notebooks/data/pig/'\n",
        "\n",
        "for fd in folder_list:\n",
        "    folder_path=osp.join(dst_base_PATH, fd)\n",
        "    if not osp.exists(folder_path):\n",
        "        os.mkdir(folder_path)\n",
        "        \n",
        "    for i in range(3): # number of classes\n",
        "        folder=osp.join(folder_path, str(i))\n",
        "        if not osp.exists(folder):\n",
        "            os.mkdir(folder)"
      ],
      "execution_count": null,
      "outputs": []
    },
    {
      "cell_type": "code",
      "metadata": {
        "colab": {
          "base_uri": "https://localhost:8080/"
        },
        "id": "UY3Qd8k4BZDc",
        "outputId": "d1b2414a-bbb4-4047-d636-3983d6c8f813"
      },
      "source": [
        "df_dict={'train': train, 'val': val, 'test': test}\n",
        "dir_dict = {\"pig_1\":'1' , \"pig_1+\":'0' , \"pig_2\":'2' }\n",
        "\n",
        "for key in df_dict:   # seperate directory \n",
        "    for idx in tqdm(range(len(df_dict[key]))):\n",
        "        label=df_dict[key].iloc[idx]['label']\n",
        "        path=df_dict[key].iloc[idx]['image_path']\n",
        "        \n",
        "        img_name=os.path.split(path)[1]\n",
        "\n",
        "        dst_path=os.path.join(dst_base_PATH, key, dir_dict[label], img_name)\n",
        "\n",
        "        _=shutil.copyfile(path, dst_path)"
      ],
      "execution_count": null,
      "outputs": [
        {
          "output_type": "stream",
          "text": [
            "100%|██████████| 6816/6816 [1:26:52<00:00,  1.31it/s]\n",
            "100%|██████████| 852/852 [09:57<00:00,  1.43it/s]\n",
            "100%|██████████| 853/853 [10:00<00:00,  1.42it/s]\n"
          ],
          "name": "stderr"
        }
      ]
    }
  ]
}