{
  "nbformat": 4,
  "nbformat_minor": 0,
  "metadata": {
    "kernelspec": {
      "display_name": "torch",
      "language": "python",
      "name": "torch"
    },
    "language_info": {
      "codemirror_mode": {
        "name": "ipython",
        "version": 3
      },
      "file_extension": ".py",
      "mimetype": "text/x-python",
      "name": "python",
      "nbconvert_exporter": "python",
      "pygments_lexer": "ipython3",
      "version": "3.7.0"
    },
    "colab": {
      "name": "Prediction_pig.ipynb",
      "provenance": [],
      "collapsed_sections": [],
      "machine_shape": "hm"
    },
    "accelerator": "GPU",
    "widgets": {
      "application/vnd.jupyter.widget-state+json": {
        "63061236a9a74acb961624527c5a8c83": {
          "model_module": "@jupyter-widgets/controls",
          "model_name": "HBoxModel",
          "model_module_version": "1.5.0",
          "state": {
            "_view_name": "HBoxView",
            "_dom_classes": [],
            "_model_name": "HBoxModel",
            "_view_module": "@jupyter-widgets/controls",
            "_model_module_version": "1.5.0",
            "_view_count": null,
            "_view_module_version": "1.5.0",
            "box_style": "",
            "layout": "IPY_MODEL_16d5736abe2c43a9bb0a75f6faab71bc",
            "_model_module": "@jupyter-widgets/controls",
            "children": [
              "IPY_MODEL_4e83151eafa2452ebdbeec0e7e0a4817",
              "IPY_MODEL_d349596b2c9943a5b461a3c2b855b0c1"
            ]
          }
        },
        "16d5736abe2c43a9bb0a75f6faab71bc": {
          "model_module": "@jupyter-widgets/base",
          "model_name": "LayoutModel",
          "model_module_version": "1.2.0",
          "state": {
            "_view_name": "LayoutView",
            "grid_template_rows": null,
            "right": null,
            "justify_content": null,
            "_view_module": "@jupyter-widgets/base",
            "overflow": null,
            "_model_module_version": "1.2.0",
            "_view_count": null,
            "flex_flow": null,
            "width": null,
            "min_width": null,
            "border": null,
            "align_items": null,
            "bottom": null,
            "_model_module": "@jupyter-widgets/base",
            "top": null,
            "grid_column": null,
            "overflow_y": null,
            "overflow_x": null,
            "grid_auto_flow": null,
            "grid_area": null,
            "grid_template_columns": null,
            "flex": null,
            "_model_name": "LayoutModel",
            "justify_items": null,
            "grid_row": null,
            "max_height": null,
            "align_content": null,
            "visibility": null,
            "align_self": null,
            "height": null,
            "min_height": null,
            "padding": null,
            "grid_auto_rows": null,
            "grid_gap": null,
            "max_width": null,
            "order": null,
            "_view_module_version": "1.2.0",
            "grid_template_areas": null,
            "object_position": null,
            "object_fit": null,
            "grid_auto_columns": null,
            "margin": null,
            "display": null,
            "left": null
          }
        },
        "4e83151eafa2452ebdbeec0e7e0a4817": {
          "model_module": "@jupyter-widgets/controls",
          "model_name": "FloatProgressModel",
          "model_module_version": "1.5.0",
          "state": {
            "_view_name": "ProgressView",
            "style": "IPY_MODEL_03b19dbacff947ed9a3c6191d3b88e3f",
            "_dom_classes": [],
            "description": "100%",
            "_model_name": "FloatProgressModel",
            "bar_style": "success",
            "max": 100441675,
            "_view_module": "@jupyter-widgets/controls",
            "_model_module_version": "1.5.0",
            "value": 100441675,
            "_view_count": null,
            "_view_module_version": "1.5.0",
            "orientation": "horizontal",
            "min": 0,
            "description_tooltip": null,
            "_model_module": "@jupyter-widgets/controls",
            "layout": "IPY_MODEL_bbfd725cc1d74f13b262dc1645c45653"
          }
        },
        "d349596b2c9943a5b461a3c2b855b0c1": {
          "model_module": "@jupyter-widgets/controls",
          "model_name": "HTMLModel",
          "model_module_version": "1.5.0",
          "state": {
            "_view_name": "HTMLView",
            "style": "IPY_MODEL_70e1365f84dc41ff9ff387ef35e834ee",
            "_dom_classes": [],
            "description": "",
            "_model_name": "HTMLModel",
            "placeholder": "​",
            "_view_module": "@jupyter-widgets/controls",
            "_model_module_version": "1.5.0",
            "value": " 95.8M/95.8M [00:09&lt;00:00, 11.0MB/s]",
            "_view_count": null,
            "_view_module_version": "1.5.0",
            "description_tooltip": null,
            "_model_module": "@jupyter-widgets/controls",
            "layout": "IPY_MODEL_9d843608896b4daf85ee01a43416267c"
          }
        },
        "03b19dbacff947ed9a3c6191d3b88e3f": {
          "model_module": "@jupyter-widgets/controls",
          "model_name": "ProgressStyleModel",
          "model_module_version": "1.5.0",
          "state": {
            "_view_name": "StyleView",
            "_model_name": "ProgressStyleModel",
            "description_width": "initial",
            "_view_module": "@jupyter-widgets/base",
            "_model_module_version": "1.5.0",
            "_view_count": null,
            "_view_module_version": "1.2.0",
            "bar_color": null,
            "_model_module": "@jupyter-widgets/controls"
          }
        },
        "bbfd725cc1d74f13b262dc1645c45653": {
          "model_module": "@jupyter-widgets/base",
          "model_name": "LayoutModel",
          "model_module_version": "1.2.0",
          "state": {
            "_view_name": "LayoutView",
            "grid_template_rows": null,
            "right": null,
            "justify_content": null,
            "_view_module": "@jupyter-widgets/base",
            "overflow": null,
            "_model_module_version": "1.2.0",
            "_view_count": null,
            "flex_flow": null,
            "width": null,
            "min_width": null,
            "border": null,
            "align_items": null,
            "bottom": null,
            "_model_module": "@jupyter-widgets/base",
            "top": null,
            "grid_column": null,
            "overflow_y": null,
            "overflow_x": null,
            "grid_auto_flow": null,
            "grid_area": null,
            "grid_template_columns": null,
            "flex": null,
            "_model_name": "LayoutModel",
            "justify_items": null,
            "grid_row": null,
            "max_height": null,
            "align_content": null,
            "visibility": null,
            "align_self": null,
            "height": null,
            "min_height": null,
            "padding": null,
            "grid_auto_rows": null,
            "grid_gap": null,
            "max_width": null,
            "order": null,
            "_view_module_version": "1.2.0",
            "grid_template_areas": null,
            "object_position": null,
            "object_fit": null,
            "grid_auto_columns": null,
            "margin": null,
            "display": null,
            "left": null
          }
        },
        "70e1365f84dc41ff9ff387ef35e834ee": {
          "model_module": "@jupyter-widgets/controls",
          "model_name": "DescriptionStyleModel",
          "model_module_version": "1.5.0",
          "state": {
            "_view_name": "StyleView",
            "_model_name": "DescriptionStyleModel",
            "description_width": "",
            "_view_module": "@jupyter-widgets/base",
            "_model_module_version": "1.5.0",
            "_view_count": null,
            "_view_module_version": "1.2.0",
            "_model_module": "@jupyter-widgets/controls"
          }
        },
        "9d843608896b4daf85ee01a43416267c": {
          "model_module": "@jupyter-widgets/base",
          "model_name": "LayoutModel",
          "model_module_version": "1.2.0",
          "state": {
            "_view_name": "LayoutView",
            "grid_template_rows": null,
            "right": null,
            "justify_content": null,
            "_view_module": "@jupyter-widgets/base",
            "overflow": null,
            "_model_module_version": "1.2.0",
            "_view_count": null,
            "flex_flow": null,
            "width": null,
            "min_width": null,
            "border": null,
            "align_items": null,
            "bottom": null,
            "_model_module": "@jupyter-widgets/base",
            "top": null,
            "grid_column": null,
            "overflow_y": null,
            "overflow_x": null,
            "grid_auto_flow": null,
            "grid_area": null,
            "grid_template_columns": null,
            "flex": null,
            "_model_name": "LayoutModel",
            "justify_items": null,
            "grid_row": null,
            "max_height": null,
            "align_content": null,
            "visibility": null,
            "align_self": null,
            "height": null,
            "min_height": null,
            "padding": null,
            "grid_auto_rows": null,
            "grid_gap": null,
            "max_width": null,
            "order": null,
            "_view_module_version": "1.2.0",
            "grid_template_areas": null,
            "object_position": null,
            "object_fit": null,
            "grid_auto_columns": null,
            "margin": null,
            "display": null,
            "left": null
          }
        }
      }
    }
  },
  "cells": [
    {
      "cell_type": "markdown",
      "metadata": {
        "id": "XSHfEWL_407-"
      },
      "source": [
        "### CPU 환경"
      ]
    },
    {
      "cell_type": "code",
      "metadata": {
        "colab": {
          "base_uri": "https://localhost:8080/"
        },
        "id": "ISFNdvaR408A",
        "outputId": "8ebf2696-9201-43d9-f723-0ff00f396036"
      },
      "source": [
        "!lscpu"
      ],
      "execution_count": null,
      "outputs": [
        {
          "output_type": "stream",
          "text": [
            "Architecture:        x86_64\n",
            "CPU op-mode(s):      32-bit, 64-bit\n",
            "Byte Order:          Little Endian\n",
            "CPU(s):              4\n",
            "On-line CPU(s) list: 0-3\n",
            "Thread(s) per core:  2\n",
            "Core(s) per socket:  2\n",
            "Socket(s):           1\n",
            "NUMA node(s):        1\n",
            "Vendor ID:           GenuineIntel\n",
            "CPU family:          6\n",
            "Model:               85\n",
            "Model name:          Intel(R) Xeon(R) CPU @ 2.00GHz\n",
            "Stepping:            3\n",
            "CPU MHz:             2000.166\n",
            "BogoMIPS:            4000.33\n",
            "Hypervisor vendor:   KVM\n",
            "Virtualization type: full\n",
            "L1d cache:           32K\n",
            "L1i cache:           32K\n",
            "L2 cache:            1024K\n",
            "L3 cache:            39424K\n",
            "NUMA node0 CPU(s):   0-3\n",
            "Flags:               fpu vme de pse tsc msr pae mce cx8 apic sep mtrr pge mca cmov pat pse36 clflush mmx fxsr sse sse2 ss ht syscall nx pdpe1gb rdtscp lm constant_tsc rep_good nopl xtopology nonstop_tsc cpuid tsc_known_freq pni pclmulqdq ssse3 fma cx16 pcid sse4_1 sse4_2 x2apic movbe popcnt aes xsave avx f16c rdrand hypervisor lahf_lm abm 3dnowprefetch invpcid_single ssbd ibrs ibpb stibp fsgsbase tsc_adjust bmi1 hle avx2 smep bmi2 erms invpcid rtm mpx avx512f avx512dq rdseed adx smap clflushopt clwb avx512cd avx512bw avx512vl xsaveopt xsavec xgetbv1 xsaves arat md_clear arch_capabilities\n"
          ],
          "name": "stdout"
        }
      ]
    },
    {
      "cell_type": "markdown",
      "metadata": {
        "id": "z5DykMBc408B"
      },
      "source": [
        "### GPU 환경"
      ]
    },
    {
      "cell_type": "code",
      "metadata": {
        "colab": {
          "base_uri": "https://localhost:8080/"
        },
        "id": "RWaxrliN408C",
        "outputId": "1fa23851-58e5-4e49-d4fa-6afed75479a3"
      },
      "source": [
        "!nvidia-smi"
      ],
      "execution_count": null,
      "outputs": [
        {
          "output_type": "stream",
          "text": [
            "Sat Aug  7 10:00:26 2021       \n",
            "+-----------------------------------------------------------------------------+\n",
            "| NVIDIA-SMI 470.42.01    Driver Version: 460.32.03    CUDA Version: 11.2     |\n",
            "|-------------------------------+----------------------+----------------------+\n",
            "| GPU  Name        Persistence-M| Bus-Id        Disp.A | Volatile Uncorr. ECC |\n",
            "| Fan  Temp  Perf  Pwr:Usage/Cap|         Memory-Usage | GPU-Util  Compute M. |\n",
            "|                               |                      |               MIG M. |\n",
            "|===============================+======================+======================|\n",
            "|   0  Tesla P100-PCIE...  Off  | 00000000:00:04.0 Off |                    0 |\n",
            "| N/A   35C    P0    26W / 250W |      0MiB / 16280MiB |      0%      Default |\n",
            "|                               |                      |                  N/A |\n",
            "+-------------------------------+----------------------+----------------------+\n",
            "                                                                               \n",
            "+-----------------------------------------------------------------------------+\n",
            "| Processes:                                                                  |\n",
            "|  GPU   GI   CI        PID   Type   Process name                  GPU Memory |\n",
            "|        ID   ID                                                   Usage      |\n",
            "|=============================================================================|\n",
            "|  No running processes found                                                 |\n",
            "+-----------------------------------------------------------------------------+\n"
          ],
          "name": "stdout"
        }
      ]
    },
    {
      "cell_type": "markdown",
      "metadata": {
        "id": "OMd0h7El408C"
      },
      "source": [
        "### RAM 용량 확인"
      ]
    },
    {
      "cell_type": "code",
      "metadata": {
        "colab": {
          "base_uri": "https://localhost:8080/"
        },
        "id": "CD2hx52O408C",
        "outputId": "a25b2d2d-d94f-4355-a700-607c2be53cb6"
      },
      "source": [
        "!free -h"
      ],
      "execution_count": null,
      "outputs": [
        {
          "output_type": "stream",
          "text": [
            "              total        used        free      shared  buff/cache   available\n",
            "Mem:            25G        580M         22G        1.1M        2.3G         24G\n",
            "Swap:            0B          0B          0B\n"
          ],
          "name": "stdout"
        }
      ]
    },
    {
      "cell_type": "markdown",
      "metadata": {
        "id": "wFpKWJUo408D"
      },
      "source": [
        "### HDD 용량 확인"
      ]
    },
    {
      "cell_type": "code",
      "metadata": {
        "colab": {
          "base_uri": "https://localhost:8080/"
        },
        "id": "5lUVxLF9408D",
        "outputId": "f8d7a397-211d-400f-fc44-d54fd18da6dd"
      },
      "source": [
        "# 디스크 용량 확인\n",
        "!df -h"
      ],
      "execution_count": null,
      "outputs": [
        {
          "output_type": "stream",
          "text": [
            "Filesystem      Size  Used Avail Use% Mounted on\n",
            "overlay         148G   38G  110G  26% /\n",
            "tmpfs            64M     0   64M   0% /dev\n",
            "tmpfs            13G     0   13G   0% /sys/fs/cgroup\n",
            "shm              13G     0   13G   0% /dev/shm\n",
            "tmpfs            13G   36K   13G   1% /var/colab\n",
            "/dev/sda1       154G   41G  114G  27% /opt/bin\n",
            "tmpfs            13G     0   13G   0% /proc/acpi\n",
            "tmpfs            13G     0   13G   0% /proc/scsi\n",
            "tmpfs            13G     0   13G   0% /sys/firmware\n"
          ],
          "name": "stdout"
        }
      ]
    },
    {
      "cell_type": "markdown",
      "metadata": {
        "id": "lOIdFkcy408E"
      },
      "source": [
        "### OS 환경"
      ]
    },
    {
      "cell_type": "code",
      "metadata": {
        "colab": {
          "base_uri": "https://localhost:8080/"
        },
        "id": "icVjonmC408E",
        "outputId": "ae23bdc7-d5b1-4134-e633-34e6e8ff5b61"
      },
      "source": [
        "!cat /etc/os-release"
      ],
      "execution_count": null,
      "outputs": [
        {
          "output_type": "stream",
          "text": [
            "NAME=\"Ubuntu\"\n",
            "VERSION=\"18.04.5 LTS (Bionic Beaver)\"\n",
            "ID=ubuntu\n",
            "ID_LIKE=debian\n",
            "PRETTY_NAME=\"Ubuntu 18.04.5 LTS\"\n",
            "VERSION_ID=\"18.04\"\n",
            "HOME_URL=\"https://www.ubuntu.com/\"\n",
            "SUPPORT_URL=\"https://help.ubuntu.com/\"\n",
            "BUG_REPORT_URL=\"https://bugs.launchpad.net/ubuntu/\"\n",
            "PRIVACY_POLICY_URL=\"https://www.ubuntu.com/legal/terms-and-policies/privacy-policy\"\n",
            "VERSION_CODENAME=bionic\n",
            "UBUNTU_CODENAME=bionic\n"
          ],
          "name": "stdout"
        }
      ]
    },
    {
      "cell_type": "code",
      "metadata": {
        "colab": {
          "base_uri": "https://localhost:8080/"
        },
        "id": "f5KPS-C05UX5",
        "outputId": "1a3a560a-7c4f-4c5f-c942-cafb660dcfc7"
      },
      "source": [
        "! pip3 install torchinfo\n",
        "! pip3 install explain"
      ],
      "execution_count": null,
      "outputs": [
        {
          "output_type": "stream",
          "text": [
            "Collecting torchinfo\n",
            "  Downloading torchinfo-1.5.2-py3-none-any.whl (18 kB)\n",
            "Installing collected packages: torchinfo\n",
            "Successfully installed torchinfo-1.5.2\n",
            "Collecting explain\n",
            "  Downloading explain-0.1.1.tar.gz (1.8 kB)\n",
            "Collecting click==3.1\n",
            "  Downloading click-3.1-py2.py3-none-any.whl (57 kB)\n",
            "\u001b[K     |████████████████████████████████| 57 kB 5.4 MB/s \n",
            "\u001b[?25hCollecting sh==1.09\n",
            "  Downloading sh-1.09.tar.gz (26 kB)\n",
            "Building wheels for collected packages: explain, sh\n",
            "  Building wheel for explain (setup.py) ... \u001b[?25l\u001b[?25hdone\n",
            "  Created wheel for explain: filename=explain-0.1.1-py3-none-any.whl size=2640 sha256=9b1f9cb39d5d5174ef2a83e42bdb46790f7ca04cc084217a22eb96b85e5caa15\n",
            "  Stored in directory: /root/.cache/pip/wheels/5c/78/f0/c31eacc637c80b4eeee46348a804f46b2dc37dc242793fa89a\n",
            "  Building wheel for sh (setup.py) ... \u001b[?25l\u001b[?25hdone\n",
            "  Created wheel for sh: filename=sh-1.9-py3-none-any.whl size=19692 sha256=2eaac9eccb4668345f2de24e3234698e343881d5a81c9c89b317557c0f2a19e1\n",
            "  Stored in directory: /root/.cache/pip/wheels/41/ab/45/b9eb2c547c2c9f603022d2c9d759941a0486b92ae91dd11142\n",
            "Successfully built explain sh\n",
            "Installing collected packages: sh, click, explain\n",
            "  Attempting uninstall: click\n",
            "    Found existing installation: click 7.1.2\n",
            "    Uninstalling click-7.1.2:\n",
            "      Successfully uninstalled click-7.1.2\n",
            "\u001b[31mERROR: pip's dependency resolver does not currently take into account all the packages that are installed. This behaviour is the source of the following dependency conflicts.\n",
            "pip-tools 4.5.1 requires click>=7, but you have click 3.1 which is incompatible.\n",
            "flask 1.1.4 requires click<8.0,>=5.1, but you have click 3.1 which is incompatible.\n",
            "distributed 1.25.3 requires click>=6.6, but you have click 3.1 which is incompatible.\u001b[0m\n",
            "Successfully installed click-3.1 explain-0.1.1 sh-1.9\n"
          ],
          "name": "stdout"
        }
      ]
    },
    {
      "cell_type": "markdown",
      "metadata": {
        "id": "Q41oiO4g408E"
      },
      "source": [
        "## 패키지 불러오기"
      ]
    },
    {
      "cell_type": "code",
      "metadata": {
        "id": "jFtQKmZz408E"
      },
      "source": [
        "import os\n",
        "import os.path as osp\n",
        "import sys\n",
        "from glob import glob\n",
        "\n",
        "import datetime\n",
        "import time\n",
        "import pytz\n",
        "\n",
        "import pandas as pd\n",
        "import numpy as np\n",
        "from tqdm import tqdm\n",
        "\n",
        "import sklearn\n",
        "\n",
        "import torch\n",
        "import torchvision\n",
        "from torchinfo import summary\n",
        "\n",
        "import torch.nn as nn\n",
        "from torch.utils.data import DataLoader\n",
        "\n",
        "from torchvision import datasets, transforms\n",
        "import torchvision.models as models\n",
        "\n",
        "import explain"
      ],
      "execution_count": null,
      "outputs": []
    },
    {
      "cell_type": "code",
      "metadata": {
        "colab": {
          "base_uri": "https://localhost:8080/"
        },
        "id": "smqkUi2Z408F",
        "outputId": "32a74689-5008-4510-cb04-bbb3781b3dc6"
      },
      "source": [
        "print('python version:',sys.version)\n",
        "print('pandas version:',pd.__version__)\n",
        "print('numpy version:', np.__version__)\n",
        "\n",
        "print('sklearn version:', sklearn.__version__)\n",
        "print('torch version:', torch.__version__)\n",
        "print('torchvision version:', torchvision.__version__)"
      ],
      "execution_count": null,
      "outputs": [
        {
          "output_type": "stream",
          "text": [
            "python version: 3.7.11 (default, Jul  3 2021, 18:01:19) \n",
            "[GCC 7.5.0]\n",
            "pandas version: 1.1.5\n",
            "numpy version: 1.19.5\n",
            "sklearn version: 0.22.2.post1\n",
            "torch version: 1.9.0+cu102\n",
            "torchvision version: 0.10.0+cu102\n"
          ],
          "name": "stdout"
        }
      ]
    },
    {
      "cell_type": "code",
      "metadata": {
        "colab": {
          "base_uri": "https://localhost:8080/"
        },
        "id": "8kl7Sz7v7hOF",
        "outputId": "893e64d2-d315-401e-9bea-686a7bebdbf7"
      },
      "source": [
        "from google.colab import drive\n",
        "\n",
        "drive.mount(\"/content/drive\")\n",
        "base_dir = \"/content/drive/My Drive/Colab Notebooks/\""
      ],
      "execution_count": null,
      "outputs": [
        {
          "output_type": "stream",
          "text": [
            "Mounted at /content/drive\n"
          ],
          "name": "stdout"
        }
      ]
    },
    {
      "cell_type": "markdown",
      "metadata": {
        "id": "VKekanuk408F"
      },
      "source": [
        "## 모델 파라미터 (Parameter)"
      ]
    },
    {
      "cell_type": "code",
      "metadata": {
        "id": "W-WhvLRJ408F"
      },
      "source": [
        "# 모델에 입력할 Input 이미지의 크기를 지정함.\n",
        "IMG_WIDTH = 128\n",
        "IMG_HEIGHT = 128\n",
        "\n",
        "# 배치 사이즈 임의 지정\n",
        "batch_size = 16\n",
        "\n",
        "# 데이터를 읽어올 경로를 지정함.\n",
        "data_dir = base_dir + '/plz/pig/'\n",
        "# 학습된 모델이 저장된 경로를 지정함.\n",
        "ckpt_dir = base_dir + \"QC_pig/classification/checkpoint/\"\n",
        "\n",
        "# 모델 이름\n",
        "Model_name = \"resnext50_32x4d_pig2\"\n",
        "\n",
        "# 모델을 연산할 장비 설정 (Docker환경에서 작동할 수 있도록 CPU에서 계산함)\n",
        "device = torch.device('cpu')"
      ],
      "execution_count": null,
      "outputs": []
    },
    {
      "cell_type": "markdown",
      "metadata": {
        "id": "R0IVA4dk408G"
      },
      "source": [
        "## Train, Validation, Test 데이터 셋 확인"
      ]
    },
    {
      "cell_type": "code",
      "metadata": {
        "colab": {
          "base_uri": "https://localhost:8080/"
        },
        "id": "yW555jJc408G",
        "outputId": "b181b855-48af-486f-ed63-43250a57de00"
      },
      "source": [
        "label=['1+','1','2']\n",
        "\n",
        "for set_ in ['train','val','test']:\n",
        "    set_size=len(glob(osp.join(data_dir, set_, '*', '*'), recursive=True))\n",
        "    if set_=='val':\n",
        "        print(f\"{set_+'idation'} set size: {set_size}\\n\")\n",
        "    else:\n",
        "        print(f\"{set_} set size: {set_size}\\n\")\n",
        "    \n",
        "    for i in range(3):\n",
        "        size=len(glob(osp.join(data_dir, set_, str(i), '*'), recursive=True))\n",
        "        print(f\"The number of Class {label[i]}: {size} / {set_size} = {size/set_size :.2f}\")\n",
        "    print('-'*45)\n",
        "    print()"
      ],
      "execution_count": null,
      "outputs": [
        {
          "output_type": "stream",
          "text": [
            "train set size: 6816\n",
            "\n",
            "The number of Class 1+: 2407 / 6816 = 0.35\n",
            "The number of Class 1: 2429 / 6816 = 0.36\n",
            "The number of Class 2: 1980 / 6816 = 0.29\n",
            "---------------------------------------------\n",
            "\n",
            "validation set size: 852\n",
            "\n",
            "The number of Class 1+: 301 / 852 = 0.35\n",
            "The number of Class 1: 303 / 852 = 0.36\n",
            "The number of Class 2: 248 / 852 = 0.29\n",
            "---------------------------------------------\n",
            "\n",
            "test set size: 853\n",
            "\n",
            "The number of Class 1+: 301 / 853 = 0.35\n",
            "The number of Class 1: 304 / 853 = 0.36\n",
            "The number of Class 2: 248 / 853 = 0.29\n",
            "---------------------------------------------\n",
            "\n"
          ],
          "name": "stdout"
        }
      ]
    },
    {
      "cell_type": "markdown",
      "metadata": {
        "id": "95OxrOMN408I"
      },
      "source": [
        "## 데이터 셋 (Dataset) 불러오기"
      ]
    },
    {
      "cell_type": "code",
      "metadata": {
        "id": "l1A9rTPQ408J"
      },
      "source": [
        "# 이미지 transformation\n",
        "test_compose=transforms.Compose([\n",
        "    transforms.Resize((IMG_HEIGHT,IMG_WIDTH)),\n",
        "    transforms.ToTensor()\n",
        "])\n",
        "\n",
        "# Test set을 읽어옴\n",
        "test_dataset=datasets.ImageFolder(os.path.join(data_dir, 'test'), transform=test_compose)\n",
        "test_dataloader=DataLoader(test_dataset, batch_size=batch_size, pin_memory=True, shuffle=False)"
      ],
      "execution_count": null,
      "outputs": []
    },
    {
      "cell_type": "markdown",
      "metadata": {
        "id": "N_T9ZkB9408J"
      },
      "source": [
        "### 모델 불러오기 (Load)"
      ]
    },
    {
      "cell_type": "code",
      "metadata": {
        "colab": {
          "base_uri": "https://localhost:8080/"
        },
        "id": "skSwahSa408J",
        "outputId": "8e25a25c-ba7b-414e-e11e-081f999fb202"
      },
      "source": [
        "# Model: ResNeXt50_32x4d\n",
        "model=models.resnext50_32x4d(pretrained=False)\n",
        "# 최종 Label 의 개수 = 5 (1++, 1+, 1, 2, 3)\n",
        "model.fc=nn.Linear(model.fc.in_features, 5)\n",
        "\n",
        "# 학습된 모델 가중치 불러오기\n",
        "#drive.mount(\"/content/drive\")\n",
        "#ckpt_dir = \"/content/drive/My Drive/Colab Notebooks/QC_pig/classification/checkpoint/\"\n",
        "#print(ckpt_dir + Model_name )\n",
        "checkpoint=torch.load(ckpt_dir + Model_name + '.pht', map_location=device)\n",
        "model.load_state_dict(checkpoint['state_dict'])"
      ],
      "execution_count": null,
      "outputs": [
        {
          "output_type": "execute_result",
          "data": {
            "text/plain": [
              "<All keys matched successfully>"
            ]
          },
          "metadata": {
            "tags": []
          },
          "execution_count": 21
        }
      ]
    },
    {
      "cell_type": "markdown",
      "metadata": {
        "id": "JGXdYIFQ408J"
      },
      "source": [
        "### 모델 학습 전, ImageNet 데이터로 Pretrain 된 기본 모델 불러오기 (Load)"
      ]
    },
    {
      "cell_type": "code",
      "metadata": {
        "colab": {
          "base_uri": "https://localhost:8080/",
          "height": 83,
          "referenced_widgets": [
            "63061236a9a74acb961624527c5a8c83",
            "16d5736abe2c43a9bb0a75f6faab71bc",
            "4e83151eafa2452ebdbeec0e7e0a4817",
            "d349596b2c9943a5b461a3c2b855b0c1",
            "03b19dbacff947ed9a3c6191d3b88e3f",
            "bbfd725cc1d74f13b262dc1645c45653",
            "70e1365f84dc41ff9ff387ef35e834ee",
            "9d843608896b4daf85ee01a43416267c"
          ]
        },
        "id": "IPDGDBRp408K",
        "outputId": "00f3702b-d8bc-4730-883e-50e26edab2e9"
      },
      "source": [
        "# model : ResNeXt50_32x4d\n",
        "base_model=models.resnext50_32x4d(pretrained=True)\n",
        "base_model.fc=nn.Linear(base_model.fc.in_features, 5)"
      ],
      "execution_count": null,
      "outputs": [
        {
          "output_type": "stream",
          "text": [
            "Downloading: \"https://download.pytorch.org/models/resnext50_32x4d-7cdf4587.pth\" to /root/.cache/torch/hub/checkpoints/resnext50_32x4d-7cdf4587.pth\n"
          ],
          "name": "stderr"
        },
        {
          "output_type": "display_data",
          "data": {
            "application/vnd.jupyter.widget-view+json": {
              "model_id": "63061236a9a74acb961624527c5a8c83",
              "version_minor": 0,
              "version_major": 2
            },
            "text/plain": [
              "HBox(children=(FloatProgress(value=0.0, max=100441675.0), HTML(value='')))"
            ]
          },
          "metadata": {
            "tags": []
          }
        },
        {
          "output_type": "stream",
          "text": [
            "\n"
          ],
          "name": "stdout"
        }
      ]
    },
    {
      "cell_type": "markdown",
      "metadata": {
        "id": "i4p12u35408K"
      },
      "source": [
        "## 모델 확인 (Summary)"
      ]
    },
    {
      "cell_type": "code",
      "metadata": {
        "colab": {
          "base_uri": "https://localhost:8080/"
        },
        "id": "W6PUP-_b408K",
        "outputId": "854dd018-e305-4824-bcf9-84ab9a40f836"
      },
      "source": [
        "_ = summary(model, (4, 3, 512, 512))"
      ],
      "execution_count": null,
      "outputs": [
        {
          "output_type": "stream",
          "text": [
            "/usr/local/lib/python3.7/dist-packages/torch/nn/functional.py:718: UserWarning: Named tensors and all their associated APIs are an experimental feature and subject to change. Please do not use them for anything important until they are released as stable. (Triggered internally at  /pytorch/c10/core/TensorImpl.h:1156.)\n",
            "  return torch.max_pool2d(input, kernel_size, stride, padding, dilation, ceil_mode)\n"
          ],
          "name": "stderr"
        }
      ]
    },
    {
      "cell_type": "markdown",
      "metadata": {
        "id": "erSgfcUY408K"
      },
      "source": [
        "---"
      ]
    },
    {
      "cell_type": "markdown",
      "metadata": {
        "id": "B9Vx89v1408K"
      },
      "source": [
        "## 테스트 (Test) 수행"
      ]
    },
    {
      "cell_type": "markdown",
      "metadata": {
        "id": "1OILM-ZP408L"
      },
      "source": [
        "### 1. ImageNet 데이터로 Pretrain 된 기본 모델 성능 평가"
      ]
    },
    {
      "cell_type": "markdown",
      "metadata": {
        "id": "GCA8G03N408L"
      },
      "source": [
        "### 테스트 이미지 평가 (Predict)"
      ]
    },
    {
      "cell_type": "code",
      "metadata": {
        "colab": {
          "base_uri": "https://localhost:8080/"
        },
        "id": "uz9raf8S408L",
        "outputId": "df9db192-4353-4560-9472-79c974df83ee"
      },
      "source": [
        "now = datetime.datetime.now(pytz.timezone('Asia/Seoul'))\n",
        "nowDatetime = now.strftime('%Y-%m-%d %H:%M:%S')\n",
        "print(f'테스트 시작 시간 : {nowDatetime}')"
      ],
      "execution_count": null,
      "outputs": [
        {
          "output_type": "stream",
          "text": [
            "테스트 시작 시간 : 2021-08-07 19:11:42\n"
          ],
          "name": "stdout"
        }
      ]
    },
    {
      "cell_type": "code",
      "metadata": {
        "id": "2OLQncg0408L"
      },
      "source": [
        "since=time.time()"
      ],
      "execution_count": null,
      "outputs": []
    },
    {
      "cell_type": "code",
      "metadata": {
        "colab": {
          "base_uri": "https://localhost:8080/"
        },
        "id": "KWC_ReHH408L",
        "outputId": "34365715-b438-4b38-e22c-d8699a9634b8"
      },
      "source": [
        "tot_labels=[]  # 전체 정답 Label 을 저장할 리스트\n",
        "tot_pred_labels=[]  # 전체 예측 Label 을 저장할 리스트\n",
        "\n",
        "# 모델을 device에 올림\n",
        "base_model=base_model.to(device)\n",
        "# 네트워크를 evaluation 용으로 선언\n",
        "base_model=base_model.eval()\n",
        "\n",
        "# test 이기 때문에 backprop 진행 x\n",
        "with torch.no_grad():\n",
        "    for images, labels in tqdm(test_dataloader):\n",
        "\n",
        "        images=images.to(device)\n",
        "        labels=labels.to(device)\n",
        "\n",
        "        # Model Prediction (forward)\n",
        "        output=base_model(images)\n",
        "        _, output_index = torch.max(output, 1)    \n",
        "\n",
        "        tot_labels.extend(list(labels.numpy()))\n",
        "        tot_pred_labels.extend(list(output_index.view(-1).numpy()))"
      ],
      "execution_count": null,
      "outputs": [
        {
          "output_type": "stream",
          "text": [
            "100%|██████████| 54/54 [08:27<00:00,  9.41s/it]\n"
          ],
          "name": "stderr"
        }
      ]
    },
    {
      "cell_type": "code",
      "metadata": {
        "colab": {
          "base_uri": "https://localhost:8080/"
        },
        "id": "hmvyWxg5408M",
        "outputId": "a0344905-658e-4fbd-9d6c-57b1d7438836"
      },
      "source": [
        "end=time.time()\n",
        "print(f'테스트 소요 시간: {int((end-since)//60)}m {int((end-since)%60)}s')"
      ],
      "execution_count": null,
      "outputs": [
        {
          "output_type": "stream",
          "text": [
            "테스트 소요 시간: 8m 49s\n"
          ],
          "name": "stdout"
        }
      ]
    },
    {
      "cell_type": "code",
      "metadata": {
        "colab": {
          "base_uri": "https://localhost:8080/"
        },
        "id": "xx7OcskU408M",
        "outputId": "5600cfea-2c7b-43a9-831a-7dc3c6d0bd32"
      },
      "source": [
        "now = datetime.datetime.now(pytz.timezone('Asia/Seoul'))\n",
        "nowDatetime = now.strftime('%Y-%m-%d %H:%M:%S')\n",
        "print(f'테스트 종료 시간 : {nowDatetime}')"
      ],
      "execution_count": null,
      "outputs": [
        {
          "output_type": "stream",
          "text": [
            "테스트 종료 시간 : 2021-08-07 19:20:39\n"
          ],
          "name": "stdout"
        }
      ]
    },
    {
      "cell_type": "markdown",
      "metadata": {
        "id": "N5L2XxLs408M"
      },
      "source": [
        "## Accuracy"
      ]
    },
    {
      "cell_type": "code",
      "metadata": {
        "colab": {
          "base_uri": "https://localhost:8080/"
        },
        "id": "3aYDypeFInqO",
        "outputId": "81ec0e3c-f1db-4309-f73b-bb4dd2d03e49"
      },
      "source": [
        "!pip3 uninstall explain"
      ],
      "execution_count": null,
      "outputs": [
        {
          "output_type": "stream",
          "text": [
            "Found existing installation: explain 0.1.1\n",
            "Uninstalling explain-0.1.1:\n",
            "  Would remove:\n",
            "    /usr/local/bin/explain\n",
            "    /usr/local/lib/python3.7/dist-packages/explain-0.1.1.dist-info/*\n",
            "    /usr/local/lib/python3.7/dist-packages/explain/*\n",
            "Proceed (y/n)? y\n",
            "  Successfully uninstalled explain-0.1.1\n"
          ],
          "name": "stdout"
        }
      ]
    },
    {
      "cell_type": "code",
      "metadata": {
        "id": "M-VdI8LfIuHK"
      },
      "source": [
        "import pandas as pd\n",
        "import numpy as np\n",
        "from sklearn.metrics import multilabel_confusion_matrix\n",
        "\n",
        "class ShowResult:\n",
        "    def __init__(self, true_tot_labels, pred_tot_labels):\n",
        "        self.true_tot_labels=true_tot_labels\n",
        "        self.pred_tot_labels=pred_tot_labels\n",
        "        #self.label=['1++','1+','1','2','3']\n",
        "        self.label=['1+','1','2']\n",
        "        \n",
        "        self.multi_label_confusion_mat=multilabel_confusion_matrix(self.true_tot_labels, self.pred_tot_labels)\n",
        "        self.total_num=len(true_tot_labels)\n",
        "        \n",
        "    def per_class_confusion_mat(self, array, label):\n",
        "        index=pd.MultiIndex.from_arrays([ ['True','True'], [f'Non {label}', label] ])\n",
        "        columns=pd.MultiIndex.from_arrays([ ['Pred','Pred'], [f'Non {label}', label] ])\n",
        "        \n",
        "        cf_mat=pd.DataFrame(array, index=index, columns=columns)\n",
        "        acc=100*np.diag(cf_mat).sum()/self.total_num\n",
        "        acc=round(acc, 3)        \n",
        "        \n",
        "        print(f'#-- Confusion Matrix for class {label}\\n')\n",
        "        print(cf_mat)\n",
        "        print(f\"\\nAccuracy for class {label} : {acc}\")\n",
        "        print('-'*35)\n",
        "        print()\n",
        "        \n",
        "        return acc\n",
        "        \n",
        "        \n",
        "        \n",
        "    def show_result(self):\n",
        "        cf_mat=pd.crosstab(pd.Series(self.true_tot_labels), pd.Series(self.pred_tot_labels),\n",
        "                               rownames=['True'], colnames=['Predicted'], margins=True)\n",
        "        #cf_mat=cf_mat.rename(index={0:'1++',1:'1+',2:'1',3:'2',4:'3'},\n",
        "        #              columns={0:'1++',1:'1+',2:'1',3:'2',4:'3'})\n",
        "        cf_mat=cf_mat.rename(index={0:'1+',1:'1',2:'2'},\n",
        "                      columns={0:'1+',1:'1',2:'2'})\n",
        "\n",
        "        print(cf_mat)\n",
        "        print()\n",
        "        print()       \n",
        "        \n",
        "        self.total_acc=[]\n",
        "        for i, label in enumerate(self.label):\n",
        "            array=self.multi_label_confusion_mat[i]\n",
        "            acc=self.per_class_confusion_mat(array, label)\n",
        "            self.total_acc.append(acc)\n",
        "            \n",
        "        print(f\"#-- Final Average Accuracy\")\n",
        "        print(f\"( {self.total_acc[0]} + {self.total_acc[1]} + {self.total_acc[2]}  ) / 3= {np.mean(self.total_acc) :.3f}\")"
      ],
      "execution_count": null,
      "outputs": []
    },
    {
      "cell_type": "code",
      "metadata": {
        "id": "1jEhtTP4408M"
      },
      "source": [
        "result = ShowResult(tot_labels, tot_pred_labels)"
      ],
      "execution_count": null,
      "outputs": []
    },
    {
      "cell_type": "code",
      "metadata": {
        "colab": {
          "base_uri": "https://localhost:8080/"
        },
        "id": "84tPuL43408M",
        "outputId": "80891835-4dd8-426a-fe6f-a67821c89da7"
      },
      "source": [
        "result.show_result()"
      ],
      "execution_count": null,
      "outputs": [
        {
          "output_type": "stream",
          "text": [
            "Predicted  1+   1    2   3   4  All\n",
            "True                               \n",
            "1+          1  11  278   2   9  301\n",
            "1           0  19  277   6   2  304\n",
            "2           2  10  228   4   4  248\n",
            "All         3  40  783  12  15  853\n",
            "\n",
            "\n",
            "#-- Confusion Matrix for class 1+\n",
            "\n",
            "              Pred   \n",
            "            Non 1+ 1+\n",
            "True Non 1+    550  2\n",
            "     1+        300  1\n",
            "\n",
            "Accuracy for class 1+ : 64.596\n",
            "-----------------------------------\n",
            "\n",
            "#-- Confusion Matrix for class 1\n",
            "\n",
            "            Pred    \n",
            "           Non 1   1\n",
            "True Non 1   528  21\n",
            "     1       285  19\n",
            "\n",
            "Accuracy for class 1 : 64.127\n",
            "-----------------------------------\n",
            "\n",
            "#-- Confusion Matrix for class 2\n",
            "\n",
            "            Pred     \n",
            "           Non 2    2\n",
            "True Non 2    50  555\n",
            "     2        20  228\n",
            "\n",
            "Accuracy for class 2 : 32.591\n",
            "-----------------------------------\n",
            "\n",
            "#-- Final Average Accuracy\n",
            "( 64.596 + 64.127 + 32.591  ) / 3= 53.771\n"
          ],
          "name": "stdout"
        }
      ]
    },
    {
      "cell_type": "markdown",
      "metadata": {
        "id": "x_eNcxYd408N"
      },
      "source": [
        "---"
      ]
    },
    {
      "cell_type": "markdown",
      "metadata": {
        "id": "B5OCXdrQ408N"
      },
      "source": [
        "### 2. 기본 모델을 Fine Tuning (학습) 한 모델 성능 평가 (Transfer Learning)"
      ]
    },
    {
      "cell_type": "markdown",
      "metadata": {
        "id": "cZjlgCJ6408N"
      },
      "source": [
        "### 테스트 이미지 평가 (Predict)"
      ]
    },
    {
      "cell_type": "code",
      "metadata": {
        "colab": {
          "base_uri": "https://localhost:8080/"
        },
        "id": "EQ3Qdj6F408N",
        "outputId": "e9db7312-62fa-4bd4-fbb0-6c3386f6928d"
      },
      "source": [
        "now = datetime.datetime.now(pytz.timezone('Asia/Seoul'))\n",
        "nowDatetime = now.strftime('%Y-%m-%d %H:%M:%S')\n",
        "print(f'테스트 시작 시간 : {nowDatetime}')"
      ],
      "execution_count": null,
      "outputs": [
        {
          "output_type": "stream",
          "text": [
            "테스트 시작 시간 : 2021-08-07 19:29:09\n"
          ],
          "name": "stdout"
        }
      ]
    },
    {
      "cell_type": "code",
      "metadata": {
        "id": "sUbUo4YP408N"
      },
      "source": [
        "since=time.time()"
      ],
      "execution_count": null,
      "outputs": []
    },
    {
      "cell_type": "code",
      "metadata": {
        "colab": {
          "base_uri": "https://localhost:8080/"
        },
        "id": "LXHpzjwg408N",
        "outputId": "b87a2ba4-aa90-42f9-94a0-8d1f05a65c04"
      },
      "source": [
        "tot_labels=[]  # 전체 정답 Label 을 저장할 리스트\n",
        "tot_pred_labels=[]  # 전체 예측 Label 을 저장할 리스트\n",
        "\n",
        "# 모델을 device에 올림\n",
        "model=model.to(device)\n",
        "# 네트워크를 evaluation 용으로 선언\n",
        "model=model.eval()\n",
        "\n",
        "# test 이기 때문에 backprop 진행 x\n",
        "with torch.no_grad():\n",
        "    for images, labels in tqdm(test_dataloader):\n",
        "\n",
        "        images=images.to(device)\n",
        "        labels=labels.to(device)\n",
        "\n",
        "        # Model Prediction (forward)\n",
        "        output=model(images)\n",
        "        _, output_index = torch.max(output, 1)    \n",
        "\n",
        "        tot_labels.extend(list(labels.numpy()))\n",
        "        tot_pred_labels.extend(list(output_index.view(-1).numpy()))"
      ],
      "execution_count": null,
      "outputs": [
        {
          "output_type": "stream",
          "text": [
            "100%|██████████| 54/54 [00:45<00:00,  1.19it/s]\n"
          ],
          "name": "stderr"
        }
      ]
    },
    {
      "cell_type": "code",
      "metadata": {
        "colab": {
          "base_uri": "https://localhost:8080/"
        },
        "id": "fH-BOQbS408O",
        "outputId": "0e762183-523c-4e4b-8ce8-7ce71040de4f"
      },
      "source": [
        "end=time.time()\n",
        "print(f'테스트 소요 시간: {int((end-since)//60)}m {int((end-since)%60)}s')"
      ],
      "execution_count": null,
      "outputs": [
        {
          "output_type": "stream",
          "text": [
            "테스트 소요 시간: 0m 50s\n"
          ],
          "name": "stdout"
        }
      ]
    },
    {
      "cell_type": "code",
      "metadata": {
        "colab": {
          "base_uri": "https://localhost:8080/"
        },
        "id": "bQdsiNKb408O",
        "outputId": "406a0341-80c4-41d2-a037-8d8247e847bc"
      },
      "source": [
        "now = datetime.datetime.now(pytz.timezone('Asia/Seoul'))\n",
        "nowDatetime = now.strftime('%Y-%m-%d %H:%M:%S')\n",
        "print(f'테스트 종료 시간 : {nowDatetime}')"
      ],
      "execution_count": null,
      "outputs": [
        {
          "output_type": "stream",
          "text": [
            "테스트 종료 시간 : 2021-08-07 19:30:02\n"
          ],
          "name": "stdout"
        }
      ]
    },
    {
      "cell_type": "markdown",
      "metadata": {
        "id": "-yVrAnB4408O"
      },
      "source": [
        "## Accuracy"
      ]
    },
    {
      "cell_type": "code",
      "metadata": {
        "id": "Zz7FP8MW408P"
      },
      "source": [
        "result=ShowResult(tot_labels, tot_pred_labels)"
      ],
      "execution_count": null,
      "outputs": []
    },
    {
      "cell_type": "code",
      "metadata": {
        "colab": {
          "base_uri": "https://localhost:8080/"
        },
        "id": "8Y_nIGNv408P",
        "outputId": "80df0a36-519d-4e59-e8c2-b83be4122261"
      },
      "source": [
        "result.show_result()"
      ],
      "execution_count": null,
      "outputs": [
        {
          "output_type": "stream",
          "text": [
            "Predicted   1+    1    2  All\n",
            "True                         \n",
            "1+         220   42   39  301\n",
            "1           34  223   47  304\n",
            "2           31   54  163  248\n",
            "All        285  319  249  853\n",
            "\n",
            "\n",
            "#-- Confusion Matrix for class 1+\n",
            "\n",
            "              Pred     \n",
            "            Non 1+   1+\n",
            "True Non 1+    487   65\n",
            "     1+         81  220\n",
            "\n",
            "Accuracy for class 1+ : 82.884\n",
            "-----------------------------------\n",
            "\n",
            "#-- Confusion Matrix for class 1\n",
            "\n",
            "            Pred     \n",
            "           Non 1    1\n",
            "True Non 1   453   96\n",
            "     1        81  223\n",
            "\n",
            "Accuracy for class 1 : 79.25\n",
            "-----------------------------------\n",
            "\n",
            "#-- Confusion Matrix for class 2\n",
            "\n",
            "            Pred     \n",
            "           Non 2    2\n",
            "True Non 2   519   86\n",
            "     2        85  163\n",
            "\n",
            "Accuracy for class 2 : 79.953\n",
            "-----------------------------------\n",
            "\n",
            "#-- Final Average Accuracy\n",
            "( 82.884 + 79.25 + 79.953  ) / 3= 80.696\n"
          ],
          "name": "stdout"
        }
      ]
    }
  ]
}