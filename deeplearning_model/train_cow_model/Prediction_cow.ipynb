{
  "nbformat": 4,
  "nbformat_minor": 0,
  "metadata": {
    "kernelspec": {
      "name": "python3",
      "display_name": "Python 3"
    },
    "colab": {
      "name": "Prediction_cow.ipynb",
      "provenance": [],
      "collapsed_sections": [],
      "machine_shape": "hm"
    },
    "language_info": {
      "name": "python"
    },
    "accelerator": "GPU",
    "widgets": {
      "application/vnd.jupyter.widget-state+json": {
        "51102b18e8114d74a65ec29d46b9500c": {
          "model_module": "@jupyter-widgets/controls",
          "model_name": "HBoxModel",
          "model_module_version": "1.5.0",
          "state": {
            "_view_name": "HBoxView",
            "_dom_classes": [],
            "_model_name": "HBoxModel",
            "_view_module": "@jupyter-widgets/controls",
            "_model_module_version": "1.5.0",
            "_view_count": null,
            "_view_module_version": "1.5.0",
            "box_style": "",
            "layout": "IPY_MODEL_16bd610f3f8d4c90aa4d75b3f85ac049",
            "_model_module": "@jupyter-widgets/controls",
            "children": [
              "IPY_MODEL_ab33e73c6d5749d39a7c6aa5d796ac5a",
              "IPY_MODEL_89b27eaebb46443fb67cbb678d89c2f7"
            ]
          }
        },
        "16bd610f3f8d4c90aa4d75b3f85ac049": {
          "model_module": "@jupyter-widgets/base",
          "model_name": "LayoutModel",
          "model_module_version": "1.2.0",
          "state": {
            "_view_name": "LayoutView",
            "grid_template_rows": null,
            "right": null,
            "justify_content": null,
            "_view_module": "@jupyter-widgets/base",
            "overflow": null,
            "_model_module_version": "1.2.0",
            "_view_count": null,
            "flex_flow": null,
            "width": null,
            "min_width": null,
            "border": null,
            "align_items": null,
            "bottom": null,
            "_model_module": "@jupyter-widgets/base",
            "top": null,
            "grid_column": null,
            "overflow_y": null,
            "overflow_x": null,
            "grid_auto_flow": null,
            "grid_area": null,
            "grid_template_columns": null,
            "flex": null,
            "_model_name": "LayoutModel",
            "justify_items": null,
            "grid_row": null,
            "max_height": null,
            "align_content": null,
            "visibility": null,
            "align_self": null,
            "height": null,
            "min_height": null,
            "padding": null,
            "grid_auto_rows": null,
            "grid_gap": null,
            "max_width": null,
            "order": null,
            "_view_module_version": "1.2.0",
            "grid_template_areas": null,
            "object_position": null,
            "object_fit": null,
            "grid_auto_columns": null,
            "margin": null,
            "display": null,
            "left": null
          }
        },
        "ab33e73c6d5749d39a7c6aa5d796ac5a": {
          "model_module": "@jupyter-widgets/controls",
          "model_name": "FloatProgressModel",
          "model_module_version": "1.5.0",
          "state": {
            "_view_name": "ProgressView",
            "style": "IPY_MODEL_1e62b0c031944c2a981b061160a8a56a",
            "_dom_classes": [],
            "description": "100%",
            "_model_name": "FloatProgressModel",
            "bar_style": "success",
            "max": 100441675,
            "_view_module": "@jupyter-widgets/controls",
            "_model_module_version": "1.5.0",
            "value": 100441675,
            "_view_count": null,
            "_view_module_version": "1.5.0",
            "orientation": "horizontal",
            "min": 0,
            "description_tooltip": null,
            "_model_module": "@jupyter-widgets/controls",
            "layout": "IPY_MODEL_407f47b9920745d6994f35f8f45c1376"
          }
        },
        "89b27eaebb46443fb67cbb678d89c2f7": {
          "model_module": "@jupyter-widgets/controls",
          "model_name": "HTMLModel",
          "model_module_version": "1.5.0",
          "state": {
            "_view_name": "HTMLView",
            "style": "IPY_MODEL_07c00e1333a04bda98bc3caa302e0eaf",
            "_dom_classes": [],
            "description": "",
            "_model_name": "HTMLModel",
            "placeholder": "​",
            "_view_module": "@jupyter-widgets/controls",
            "_model_module_version": "1.5.0",
            "value": " 95.8M/95.8M [00:12&lt;00:00, 8.17MB/s]",
            "_view_count": null,
            "_view_module_version": "1.5.0",
            "description_tooltip": null,
            "_model_module": "@jupyter-widgets/controls",
            "layout": "IPY_MODEL_e47bb45381c747619ebe919fda9f8563"
          }
        },
        "1e62b0c031944c2a981b061160a8a56a": {
          "model_module": "@jupyter-widgets/controls",
          "model_name": "ProgressStyleModel",
          "model_module_version": "1.5.0",
          "state": {
            "_view_name": "StyleView",
            "_model_name": "ProgressStyleModel",
            "description_width": "initial",
            "_view_module": "@jupyter-widgets/base",
            "_model_module_version": "1.5.0",
            "_view_count": null,
            "_view_module_version": "1.2.0",
            "bar_color": null,
            "_model_module": "@jupyter-widgets/controls"
          }
        },
        "407f47b9920745d6994f35f8f45c1376": {
          "model_module": "@jupyter-widgets/base",
          "model_name": "LayoutModel",
          "model_module_version": "1.2.0",
          "state": {
            "_view_name": "LayoutView",
            "grid_template_rows": null,
            "right": null,
            "justify_content": null,
            "_view_module": "@jupyter-widgets/base",
            "overflow": null,
            "_model_module_version": "1.2.0",
            "_view_count": null,
            "flex_flow": null,
            "width": null,
            "min_width": null,
            "border": null,
            "align_items": null,
            "bottom": null,
            "_model_module": "@jupyter-widgets/base",
            "top": null,
            "grid_column": null,
            "overflow_y": null,
            "overflow_x": null,
            "grid_auto_flow": null,
            "grid_area": null,
            "grid_template_columns": null,
            "flex": null,
            "_model_name": "LayoutModel",
            "justify_items": null,
            "grid_row": null,
            "max_height": null,
            "align_content": null,
            "visibility": null,
            "align_self": null,
            "height": null,
            "min_height": null,
            "padding": null,
            "grid_auto_rows": null,
            "grid_gap": null,
            "max_width": null,
            "order": null,
            "_view_module_version": "1.2.0",
            "grid_template_areas": null,
            "object_position": null,
            "object_fit": null,
            "grid_auto_columns": null,
            "margin": null,
            "display": null,
            "left": null
          }
        },
        "07c00e1333a04bda98bc3caa302e0eaf": {
          "model_module": "@jupyter-widgets/controls",
          "model_name": "DescriptionStyleModel",
          "model_module_version": "1.5.0",
          "state": {
            "_view_name": "StyleView",
            "_model_name": "DescriptionStyleModel",
            "description_width": "",
            "_view_module": "@jupyter-widgets/base",
            "_model_module_version": "1.5.0",
            "_view_count": null,
            "_view_module_version": "1.2.0",
            "_model_module": "@jupyter-widgets/controls"
          }
        },
        "e47bb45381c747619ebe919fda9f8563": {
          "model_module": "@jupyter-widgets/base",
          "model_name": "LayoutModel",
          "model_module_version": "1.2.0",
          "state": {
            "_view_name": "LayoutView",
            "grid_template_rows": null,
            "right": null,
            "justify_content": null,
            "_view_module": "@jupyter-widgets/base",
            "overflow": null,
            "_model_module_version": "1.2.0",
            "_view_count": null,
            "flex_flow": null,
            "width": null,
            "min_width": null,
            "border": null,
            "align_items": null,
            "bottom": null,
            "_model_module": "@jupyter-widgets/base",
            "top": null,
            "grid_column": null,
            "overflow_y": null,
            "overflow_x": null,
            "grid_auto_flow": null,
            "grid_area": null,
            "grid_template_columns": null,
            "flex": null,
            "_model_name": "LayoutModel",
            "justify_items": null,
            "grid_row": null,
            "max_height": null,
            "align_content": null,
            "visibility": null,
            "align_self": null,
            "height": null,
            "min_height": null,
            "padding": null,
            "grid_auto_rows": null,
            "grid_gap": null,
            "max_width": null,
            "order": null,
            "_view_module_version": "1.2.0",
            "grid_template_areas": null,
            "object_position": null,
            "object_fit": null,
            "grid_auto_columns": null,
            "margin": null,
            "display": null,
            "left": null
          }
        }
      }
    }
  },
  "cells": [
    {
      "cell_type": "markdown",
      "metadata": {
        "id": "eUwndA9xX5pX"
      },
      "source": [
        "### CPU 환경"
      ]
    },
    {
      "cell_type": "code",
      "metadata": {
        "id": "LI0BjhEUX5pY",
        "colab": {
          "base_uri": "https://localhost:8080/"
        },
        "outputId": "c44b570c-a331-4740-a9fd-1fee43c4d19b"
      },
      "source": [
        "!lscpu"
      ],
      "execution_count": null,
      "outputs": [
        {
          "output_type": "stream",
          "text": [
            "Architecture:        x86_64\n",
            "CPU op-mode(s):      32-bit, 64-bit\n",
            "Byte Order:          Little Endian\n",
            "CPU(s):              4\n",
            "On-line CPU(s) list: 0-3\n",
            "Thread(s) per core:  2\n",
            "Core(s) per socket:  2\n",
            "Socket(s):           1\n",
            "NUMA node(s):        1\n",
            "Vendor ID:           GenuineIntel\n",
            "CPU family:          6\n",
            "Model:               85\n",
            "Model name:          Intel(R) Xeon(R) CPU @ 2.00GHz\n",
            "Stepping:            3\n",
            "CPU MHz:             2000.160\n",
            "BogoMIPS:            4000.32\n",
            "Hypervisor vendor:   KVM\n",
            "Virtualization type: full\n",
            "L1d cache:           32K\n",
            "L1i cache:           32K\n",
            "L2 cache:            1024K\n",
            "L3 cache:            39424K\n",
            "NUMA node0 CPU(s):   0-3\n",
            "Flags:               fpu vme de pse tsc msr pae mce cx8 apic sep mtrr pge mca cmov pat pse36 clflush mmx fxsr sse sse2 ss ht syscall nx pdpe1gb rdtscp lm constant_tsc rep_good nopl xtopology nonstop_tsc cpuid tsc_known_freq pni pclmulqdq ssse3 fma cx16 pcid sse4_1 sse4_2 x2apic movbe popcnt aes xsave avx f16c rdrand hypervisor lahf_lm abm 3dnowprefetch invpcid_single ssbd ibrs ibpb stibp fsgsbase tsc_adjust bmi1 hle avx2 smep bmi2 erms invpcid rtm mpx avx512f avx512dq rdseed adx smap clflushopt clwb avx512cd avx512bw avx512vl xsaveopt xsavec xgetbv1 xsaves arat md_clear arch_capabilities\n"
          ],
          "name": "stdout"
        }
      ]
    },
    {
      "cell_type": "markdown",
      "metadata": {
        "id": "cS-kL2OpX5pZ"
      },
      "source": [
        "### GPU 환경"
      ]
    },
    {
      "cell_type": "code",
      "metadata": {
        "id": "orZ94gSiX5pZ",
        "colab": {
          "base_uri": "https://localhost:8080/"
        },
        "outputId": "e2da2ba6-37f9-4dad-866a-a54f8d5922b7"
      },
      "source": [
        "!nvidia-smi"
      ],
      "execution_count": null,
      "outputs": [
        {
          "output_type": "stream",
          "text": [
            "Tue Aug 10 02:31:47 2021       \n",
            "+-----------------------------------------------------------------------------+\n",
            "| NVIDIA-SMI 470.42.01    Driver Version: 460.32.03    CUDA Version: 11.2     |\n",
            "|-------------------------------+----------------------+----------------------+\n",
            "| GPU  Name        Persistence-M| Bus-Id        Disp.A | Volatile Uncorr. ECC |\n",
            "| Fan  Temp  Perf  Pwr:Usage/Cap|         Memory-Usage | GPU-Util  Compute M. |\n",
            "|                               |                      |               MIG M. |\n",
            "|===============================+======================+======================|\n",
            "|   0  Tesla V100-SXM2...  Off  | 00000000:00:04.0 Off |                    0 |\n",
            "| N/A   33C    P0    23W / 300W |      0MiB / 16160MiB |      0%      Default |\n",
            "|                               |                      |                  N/A |\n",
            "+-------------------------------+----------------------+----------------------+\n",
            "                                                                               \n",
            "+-----------------------------------------------------------------------------+\n",
            "| Processes:                                                                  |\n",
            "|  GPU   GI   CI        PID   Type   Process name                  GPU Memory |\n",
            "|        ID   ID                                                   Usage      |\n",
            "|=============================================================================|\n",
            "|  No running processes found                                                 |\n",
            "+-----------------------------------------------------------------------------+\n"
          ],
          "name": "stdout"
        }
      ]
    },
    {
      "cell_type": "markdown",
      "metadata": {
        "id": "u-XHq-LcX5pa"
      },
      "source": [
        "### RAM 용량 확인"
      ]
    },
    {
      "cell_type": "code",
      "metadata": {
        "id": "oGYCziUxX5pa",
        "colab": {
          "base_uri": "https://localhost:8080/"
        },
        "outputId": "7bf77a86-b5ba-4b5f-e652-c74536ceb7d0"
      },
      "source": [
        "!free -h"
      ],
      "execution_count": null,
      "outputs": [
        {
          "output_type": "stream",
          "text": [
            "              total        used        free      shared  buff/cache   available\n",
            "Mem:            25G        583M         22G        1.1M        2.3G         24G\n",
            "Swap:            0B          0B          0B\n"
          ],
          "name": "stdout"
        }
      ]
    },
    {
      "cell_type": "markdown",
      "metadata": {
        "id": "TuYhHDN9X5pb"
      },
      "source": [
        "### HDD 용량 확인"
      ]
    },
    {
      "cell_type": "code",
      "metadata": {
        "id": "78g8fAGUX5pb",
        "colab": {
          "base_uri": "https://localhost:8080/"
        },
        "outputId": "5c825a29-fa83-4f7f-b935-a81c5fc6a3bb"
      },
      "source": [
        "# 디스크 용량 확인\n",
        "!df -h"
      ],
      "execution_count": null,
      "outputs": [
        {
          "output_type": "stream",
          "text": [
            "Filesystem      Size  Used Avail Use% Mounted on\n",
            "overlay         148G   38G  110G  26% /\n",
            "tmpfs            64M     0   64M   0% /dev\n",
            "tmpfs            13G     0   13G   0% /sys/fs/cgroup\n",
            "shm              13G     0   13G   0% /dev/shm\n",
            "/dev/sda1       154G   41G  114G  27% /opt/bin\n",
            "tmpfs            13G   36K   13G   1% /var/colab\n",
            "tmpfs            13G     0   13G   0% /proc/acpi\n",
            "tmpfs            13G     0   13G   0% /proc/scsi\n",
            "tmpfs            13G     0   13G   0% /sys/firmware\n"
          ],
          "name": "stdout"
        }
      ]
    },
    {
      "cell_type": "markdown",
      "metadata": {
        "id": "dLjYvXziX5pb"
      },
      "source": [
        "### OS 환경"
      ]
    },
    {
      "cell_type": "code",
      "metadata": {
        "id": "ZAqMSMXgX5pc",
        "colab": {
          "base_uri": "https://localhost:8080/"
        },
        "outputId": "2c553bc7-994e-4c3a-a95e-270663a0fee0"
      },
      "source": [
        "!cat /etc/os-release"
      ],
      "execution_count": null,
      "outputs": [
        {
          "output_type": "stream",
          "text": [
            "NAME=\"Ubuntu\"\n",
            "VERSION=\"18.04.5 LTS (Bionic Beaver)\"\n",
            "ID=ubuntu\n",
            "ID_LIKE=debian\n",
            "PRETTY_NAME=\"Ubuntu 18.04.5 LTS\"\n",
            "VERSION_ID=\"18.04\"\n",
            "HOME_URL=\"https://www.ubuntu.com/\"\n",
            "SUPPORT_URL=\"https://help.ubuntu.com/\"\n",
            "BUG_REPORT_URL=\"https://bugs.launchpad.net/ubuntu/\"\n",
            "PRIVACY_POLICY_URL=\"https://www.ubuntu.com/legal/terms-and-policies/privacy-policy\"\n",
            "VERSION_CODENAME=bionic\n",
            "UBUNTU_CODENAME=bionic\n"
          ],
          "name": "stdout"
        }
      ]
    },
    {
      "cell_type": "code",
      "metadata": {
        "colab": {
          "base_uri": "https://localhost:8080/"
        },
        "id": "XUHWIheH5zuF",
        "outputId": "0153f7c6-aefe-45c3-8720-42cad8a34181"
      },
      "source": [
        "!pip3 install torchinfo"
      ],
      "execution_count": null,
      "outputs": [
        {
          "output_type": "stream",
          "text": [
            "Collecting torchinfo\n",
            "  Downloading torchinfo-1.5.3-py3-none-any.whl (19 kB)\n",
            "Installing collected packages: torchinfo\n",
            "Successfully installed torchinfo-1.5.3\n"
          ],
          "name": "stdout"
        }
      ]
    },
    {
      "cell_type": "markdown",
      "metadata": {
        "id": "ldyGErgIX5pc"
      },
      "source": [
        "## 패키지 불러오기"
      ]
    },
    {
      "cell_type": "code",
      "metadata": {
        "id": "khu0IaR-X5pc"
      },
      "source": [
        "import os\n",
        "import os.path as osp\n",
        "import sys\n",
        "from glob import glob\n",
        "\n",
        "import datetime\n",
        "import time\n",
        "import pytz\n",
        "\n",
        "import pandas as pd\n",
        "import numpy as np\n",
        "from tqdm import tqdm\n",
        "\n",
        "import sklearn\n",
        "\n",
        "import torch\n",
        "import torchvision\n",
        "from torchinfo import summary\n",
        "\n",
        "import torch.nn as nn\n",
        "from torch.utils.data import DataLoader\n",
        "\n",
        "from torchvision import datasets, transforms\n",
        "import torchvision.models as models\n",
        "\n",
        "#import explain"
      ],
      "execution_count": null,
      "outputs": []
    },
    {
      "cell_type": "code",
      "metadata": {
        "id": "cPvjj5RIX5pd",
        "colab": {
          "base_uri": "https://localhost:8080/"
        },
        "outputId": "39c925d6-1c3b-43e3-ace4-060a470b82ad"
      },
      "source": [
        "print('python version:',sys.version)\n",
        "print('pandas version:',pd.__version__)\n",
        "print('numpy version:', np.__version__)\n",
        "\n",
        "print('sklearn version:', sklearn.__version__)\n",
        "print('torch version:', torch.__version__)\n",
        "print('torchvision version:', torchvision.__version__)"
      ],
      "execution_count": null,
      "outputs": [
        {
          "output_type": "stream",
          "text": [
            "python version: 3.7.11 (default, Jul  3 2021, 18:01:19) \n",
            "[GCC 7.5.0]\n",
            "pandas version: 1.1.5\n",
            "numpy version: 1.19.5\n",
            "sklearn version: 0.22.2.post1\n",
            "torch version: 1.9.0+cu102\n",
            "torchvision version: 0.10.0+cu102\n"
          ],
          "name": "stdout"
        }
      ]
    },
    {
      "cell_type": "markdown",
      "metadata": {
        "id": "f3Ejt_PoX5pd"
      },
      "source": [
        "## 모델 파라미터 (Parameter)"
      ]
    },
    {
      "cell_type": "code",
      "metadata": {
        "id": "4fSXHvWeX5pd"
      },
      "source": [
        "# 모델에 입력할 Input 이미지의 크기를 지정함.\n",
        "IMG_WIDTH = 128\n",
        "IMG_HEIGHT =128\n",
        "\n",
        "# 배치 사이즈 임의 지정\n",
        "batch_size = 4\n",
        "\n",
        "# 데이터를 읽어올 경로를 지정함.\n",
        "data_dir=\"/content/drive/My Drive/Colab Notebooks/dataset/\"\n",
        "# 학습된 모델이 저장된 경로를 지정함.\n",
        "ckpt_dir = \"/content/drive/My Drive/Colab Notebooks/QC_cow/classification/checkpoint/\"\n",
        "\n",
        "# 모델 이름\n",
        "Model_name = \"resnext50_32x4d_cow_2\"\n",
        "# 모델을 연산할 장비 설정 (Docker환경에서 작동할 수 있도록 CPU에서 계산함)\n",
        "device = torch.device('cpu')"
      ],
      "execution_count": null,
      "outputs": []
    },
    {
      "cell_type": "code",
      "metadata": {
        "colab": {
          "base_uri": "https://localhost:8080/"
        },
        "id": "4mTvuhsA9ZMB",
        "outputId": "8b4d9cd7-3a46-45eb-8d92-6663d6261a13"
      },
      "source": [
        "from google.colab import drive\n",
        "drive.mount(\"/content/drive\")"
      ],
      "execution_count": null,
      "outputs": [
        {
          "output_type": "stream",
          "text": [
            "Mounted at /content/drive\n"
          ],
          "name": "stdout"
        }
      ]
    },
    {
      "cell_type": "markdown",
      "metadata": {
        "id": "Wgjdu6ccX5pd"
      },
      "source": [
        "## Train, Validation, Test 데이터 셋 확인"
      ]
    },
    {
      "cell_type": "code",
      "metadata": {
        "id": "VNmivm6-X5pe",
        "colab": {
          "base_uri": "https://localhost:8080/"
        },
        "outputId": "92aca718-82b7-4007-c9d2-18d6a4789290"
      },
      "source": [
        "label=['1++','1+','1','2','3']\n",
        "dir_name = {\"0\":\"cow_seg_1++\", \"1\":\"cow_seg_1+\", \"2\":\"cow_seg_1\", \"3\":\"cow_seg_2\", \"4\":\"cow_seg_3\",}\n",
        "\n",
        "for set_ in ['train','val','test']:\n",
        "    #print(osp.join(data_dir, set_, '*', '*'))\n",
        "    set_size=len(glob(osp.join(data_dir, set_, '*', '*'), recursive=True))\n",
        "    if set_=='val':\n",
        "        print(f\"{set_+'idation'} set size: {set_size}\\n\")\n",
        "    else:\n",
        "        print(f\"{set_} set size: {set_size}\\n\")\n",
        "    \n",
        "    for i in range(5):\n",
        "        size=len(glob(osp.join(data_dir, set_, dir_name[str(i)], '*'), recursive=True))\n",
        "        print(f\"The number of Class {label[i]}: {size} / {set_size} = {size/set_size :.2f}\")\n",
        "    print('-'*45)\n",
        "    print()"
      ],
      "execution_count": null,
      "outputs": [
        {
          "output_type": "stream",
          "text": [
            "train set size: 32071\n",
            "\n",
            "The number of Class 1++: 7000 / 32071 = 0.22\n",
            "The number of Class 1+: 7000 / 32071 = 0.22\n",
            "The number of Class 1: 7000 / 32071 = 0.22\n",
            "The number of Class 2: 7000 / 32071 = 0.22\n",
            "The number of Class 3: 4071 / 32071 = 0.13\n",
            "---------------------------------------------\n",
            "\n",
            "validation set size: 4136\n",
            "\n",
            "The number of Class 1++: 900 / 4136 = 0.22\n",
            "The number of Class 1+: 900 / 4136 = 0.22\n",
            "The number of Class 1: 900 / 4136 = 0.22\n",
            "The number of Class 2: 900 / 4136 = 0.22\n",
            "The number of Class 3: 536 / 4136 = 0.13\n",
            "---------------------------------------------\n",
            "\n",
            "test set size: 3895\n",
            "\n",
            "The number of Class 1++: 1000 / 3895 = 0.26\n",
            "The number of Class 1+: 1000 / 3895 = 0.26\n",
            "The number of Class 1: 1000 / 3895 = 0.26\n",
            "The number of Class 2: 627 / 3895 = 0.16\n",
            "The number of Class 3: 268 / 3895 = 0.07\n",
            "---------------------------------------------\n",
            "\n"
          ],
          "name": "stdout"
        }
      ]
    },
    {
      "cell_type": "markdown",
      "metadata": {
        "id": "1DTh8B--X5pe"
      },
      "source": [
        "## 데이터 셋 (Dataset) 불러오기"
      ]
    },
    {
      "cell_type": "code",
      "metadata": {
        "id": "XNAj6TZ8X5pe"
      },
      "source": [
        "# 이미지 transformation\n",
        "test_compose=transforms.Compose([\n",
        "    transforms.Resize((IMG_HEIGHT,IMG_WIDTH)),\n",
        "    transforms.ToTensor()\n",
        "])\n",
        "\n",
        "# Test set을 읽어옴\n",
        "test_dataset=datasets.ImageFolder(os.path.join(data_dir, 'test'), transform=test_compose)\n",
        "test_dataloader=DataLoader(test_dataset, batch_size=batch_size, pin_memory=True, shuffle=False)"
      ],
      "execution_count": null,
      "outputs": []
    },
    {
      "cell_type": "code",
      "metadata": {
        "id": "G_-i5H3sL1MD",
        "colab": {
          "base_uri": "https://localhost:8080/"
        },
        "outputId": "18e8d384-36ac-4d7c-cbda-b1a51f0215c0"
      },
      "source": [
        "test_dataset"
      ],
      "execution_count": null,
      "outputs": [
        {
          "output_type": "execute_result",
          "data": {
            "text/plain": [
              "Dataset ImageFolder\n",
              "    Number of datapoints: 3895\n",
              "    Root location: /content/drive/My Drive/Colab Notebooks/dataset/test\n",
              "    StandardTransform\n",
              "Transform: Compose(\n",
              "               Resize(size=(128, 128), interpolation=bilinear, max_size=None, antialias=None)\n",
              "               ToTensor()\n",
              "           )"
            ]
          },
          "metadata": {
            "tags": []
          },
          "execution_count": 51
        }
      ]
    },
    {
      "cell_type": "markdown",
      "metadata": {
        "id": "vZyUF4LFX5pe"
      },
      "source": [
        "### 모델 불러오기 (Load)"
      ]
    },
    {
      "cell_type": "code",
      "metadata": {
        "id": "Xd7Waw6AX5pf",
        "colab": {
          "base_uri": "https://localhost:8080/"
        },
        "outputId": "f3932945-b871-4e9d-acb0-c52999b68585"
      },
      "source": [
        "# Model: ResNeXt50_32x4d\n",
        "model=models.resnext50_32x4d(pretrained=False)\n",
        "# 최종 Label 의 개수 = 5 (1++, 1+, 1, 2, 3)\n",
        "model.fc=nn.Linear(model.fc.in_features, 5)\n",
        "\n",
        "# 학습된 모델 가중치 불러오기\n",
        "checkpoint=torch.load(ckpt_dir + Model_name + '.pht', map_location=device)\n",
        "model.load_state_dict(checkpoint['state_dict'])"
      ],
      "execution_count": null,
      "outputs": [
        {
          "output_type": "execute_result",
          "data": {
            "text/plain": [
              "<All keys matched successfully>"
            ]
          },
          "metadata": {
            "tags": []
          },
          "execution_count": 30
        }
      ]
    },
    {
      "cell_type": "markdown",
      "metadata": {
        "id": "8pq7imRPX5pf"
      },
      "source": [
        "### 모델 학습 전, ImageNet 데이터로 Pretrain 된 기본 모델 불러오기 (Load)"
      ]
    },
    {
      "cell_type": "code",
      "metadata": {
        "id": "TM2SgtILX5pf",
        "colab": {
          "base_uri": "https://localhost:8080/",
          "height": 83,
          "referenced_widgets": [
            "51102b18e8114d74a65ec29d46b9500c",
            "16bd610f3f8d4c90aa4d75b3f85ac049",
            "ab33e73c6d5749d39a7c6aa5d796ac5a",
            "89b27eaebb46443fb67cbb678d89c2f7",
            "1e62b0c031944c2a981b061160a8a56a",
            "407f47b9920745d6994f35f8f45c1376",
            "07c00e1333a04bda98bc3caa302e0eaf",
            "e47bb45381c747619ebe919fda9f8563"
          ]
        },
        "outputId": "2c02c31e-2daf-4007-b5eb-301bda57af98"
      },
      "source": [
        "# model : ResNeXt50_32x4d\n",
        "base_model=models.resnext50_32x4d(pretrained=True)\n",
        "base_model.fc=nn.Linear(base_model.fc.in_features, 5)"
      ],
      "execution_count": null,
      "outputs": [
        {
          "output_type": "stream",
          "text": [
            "Downloading: \"https://download.pytorch.org/models/resnext50_32x4d-7cdf4587.pth\" to /root/.cache/torch/hub/checkpoints/resnext50_32x4d-7cdf4587.pth\n"
          ],
          "name": "stderr"
        },
        {
          "output_type": "display_data",
          "data": {
            "application/vnd.jupyter.widget-view+json": {
              "model_id": "51102b18e8114d74a65ec29d46b9500c",
              "version_minor": 0,
              "version_major": 2
            },
            "text/plain": [
              "HBox(children=(FloatProgress(value=0.0, max=100441675.0), HTML(value='')))"
            ]
          },
          "metadata": {
            "tags": []
          }
        },
        {
          "output_type": "stream",
          "text": [
            "\n"
          ],
          "name": "stdout"
        }
      ]
    },
    {
      "cell_type": "markdown",
      "metadata": {
        "id": "svO4FbFKX5pf"
      },
      "source": [
        "## 모델 확인 (Summary)"
      ]
    },
    {
      "cell_type": "code",
      "metadata": {
        "id": "sZbhmVwZX5pg",
        "colab": {
          "base_uri": "https://localhost:8080/"
        },
        "outputId": "3e9be02d-528a-40df-e5b6-fd5b7a872259"
      },
      "source": [
        "_ = summary(model, (4, 3, 512, 512))"
      ],
      "execution_count": null,
      "outputs": [
        {
          "output_type": "stream",
          "text": [
            "/usr/local/lib/python3.7/dist-packages/torch/nn/functional.py:718: UserWarning: Named tensors and all their associated APIs are an experimental feature and subject to change. Please do not use them for anything important until they are released as stable. (Triggered internally at  /pytorch/c10/core/TensorImpl.h:1156.)\n",
            "  return torch.max_pool2d(input, kernel_size, stride, padding, dilation, ceil_mode)\n"
          ],
          "name": "stderr"
        }
      ]
    },
    {
      "cell_type": "markdown",
      "metadata": {
        "id": "XR7z1Id0X5pg"
      },
      "source": [
        "---"
      ]
    },
    {
      "cell_type": "markdown",
      "metadata": {
        "id": "kpF6KkuNX5pg"
      },
      "source": [
        "## 테스트 (Test) 수행"
      ]
    },
    {
      "cell_type": "markdown",
      "metadata": {
        "id": "FR2P-9F_X5pg"
      },
      "source": [
        "### 1. ImageNet 데이터로 Pretrain 된 기본 모델 성능 평가"
      ]
    },
    {
      "cell_type": "markdown",
      "metadata": {
        "id": "lqFjixJYX5pg"
      },
      "source": [
        "### 테스트 이미지 평가 (Predict)"
      ]
    },
    {
      "cell_type": "code",
      "metadata": {
        "id": "uJ_GzKiGX5pg",
        "colab": {
          "base_uri": "https://localhost:8080/"
        },
        "outputId": "aaf057cc-06f0-49a8-91d0-f8a19b556700"
      },
      "source": [
        "now = datetime.datetime.now(pytz.timezone('Asia/Seoul'))\n",
        "nowDatetime = now.strftime('%Y-%m-%d %H:%M:%S')\n",
        "print(f'테스트 시작 시간 : {nowDatetime}')"
      ],
      "execution_count": null,
      "outputs": [
        {
          "output_type": "stream",
          "text": [
            "테스트 시작 시간 : 2021-08-10 11:52:19\n"
          ],
          "name": "stdout"
        }
      ]
    },
    {
      "cell_type": "code",
      "metadata": {
        "id": "JSxHYiEzX5ph"
      },
      "source": [
        "since=time.time()"
      ],
      "execution_count": null,
      "outputs": []
    },
    {
      "cell_type": "code",
      "metadata": {
        "id": "GEs2f1oaX5ph",
        "colab": {
          "base_uri": "https://localhost:8080/"
        },
        "outputId": "2b1f9363-55ea-4415-b091-049015d07f21"
      },
      "source": [
        "tot_labels=[]  # 전체 정답 Label 을 저장할 리스트\n",
        "tot_pred_labels=[]  # 전체 예측 Label 을 저장할 리스트\n",
        "\n",
        "# 모델을 device에 올림\n",
        "base_model=base_model.to(device)\n",
        "# 네트워크를 evaluation 용으로 선언\n",
        "base_model=base_model.eval()\n",
        "\n",
        "# test 이기 때문에 backprop 진행 x\n",
        "with torch.no_grad():\n",
        "    for images, labels in tqdm(test_dataloader):\n",
        "\n",
        "        images=images.to(device)\n",
        "        labels=labels.to(device)\n",
        "\n",
        "        # Model Prediction (forward)\n",
        "        output=base_model(images)\n",
        "        _, output_index = torch.max(output, 1)\n",
        "\n",
        "        tot_labels.extend(list(labels.numpy()))\n",
        "        tot_pred_labels.extend(list(output_index.view(-1).numpy()))"
      ],
      "execution_count": null,
      "outputs": [
        {
          "output_type": "stream",
          "text": [
            "100%|██████████| 974/974 [41:27<00:00,  2.55s/it]\n"
          ],
          "name": "stderr"
        }
      ]
    },
    {
      "cell_type": "code",
      "metadata": {
        "id": "yOX1-MQvX5ph",
        "colab": {
          "base_uri": "https://localhost:8080/"
        },
        "outputId": "872d6edb-4215-4944-d2f9-126ff9c9ce78"
      },
      "source": [
        "end=time.time()\n",
        "print(f'테스트 소요 시간: {int((end-since)//60)}m {int((end-since)%60)}s')"
      ],
      "execution_count": null,
      "outputs": [
        {
          "output_type": "stream",
          "text": [
            "테스트 소요 시간: 42m 51s\n"
          ],
          "name": "stdout"
        }
      ]
    },
    {
      "cell_type": "code",
      "metadata": {
        "id": "NnB-_JRmX5ph",
        "colab": {
          "base_uri": "https://localhost:8080/"
        },
        "outputId": "f66b2219-58cf-452f-b1bd-745a548e7348"
      },
      "source": [
        "now = datetime.datetime.now(pytz.timezone('Asia/Seoul'))\n",
        "nowDatetime = now.strftime('%Y-%m-%d %H:%M:%S')\n",
        "print(f'테스트 종료 시간 : {nowDatetime}')"
      ],
      "execution_count": null,
      "outputs": [
        {
          "output_type": "stream",
          "text": [
            "테스트 종료 시간 : 2021-08-10 12:35:15\n"
          ],
          "name": "stdout"
        }
      ]
    },
    {
      "cell_type": "markdown",
      "metadata": {
        "id": "gn70fgXNX5pi"
      },
      "source": [
        "## Accuracy"
      ]
    },
    {
      "cell_type": "code",
      "metadata": {
        "id": "ADlslVe_IQMI"
      },
      "source": [
        "import pandas as pd\n",
        "import numpy as np\n",
        "from sklearn.metrics import multilabel_confusion_matrix\n",
        "\n",
        "class ShowResult:\n",
        "    def __init__(self, true_tot_labels, pred_tot_labels):\n",
        "        self.true_tot_labels=true_tot_labels\n",
        "        self.pred_tot_labels=pred_tot_labels\n",
        "        self.label=['1++','1+','1','2','3']\n",
        "        \n",
        "        self.multi_label_confusion_mat=multilabel_confusion_matrix(self.true_tot_labels, self.pred_tot_labels)\n",
        "        self.total_num=len(true_tot_labels)\n",
        "        \n",
        "    def per_class_confusion_mat(self, array, label):\n",
        "        index=pd.MultiIndex.from_arrays([ ['True','True'], [f'Non {label}', label] ])\n",
        "        columns=pd.MultiIndex.from_arrays([ ['Pred','Pred'], [f'Non {label}', label] ])\n",
        "        \n",
        "        cf_mat=pd.DataFrame(array, index=index, columns=columns)\n",
        "        acc=100*np.diag(cf_mat).sum()/self.total_num\n",
        "        acc=round(acc, 3)        \n",
        "        \n",
        "        print(f'#-- Confusion Matrix for class {label}\\n')\n",
        "        print(cf_mat)\n",
        "        print(f\"\\nAccuracy for class {label} : {acc}\")\n",
        "        print('-'*35)\n",
        "        print()\n",
        "        \n",
        "        return acc\n",
        "        \n",
        "        \n",
        "        \n",
        "    def show_result(self):\n",
        "        cf_mat=pd.crosstab(pd.Series(self.true_tot_labels), pd.Series(self.pred_tot_labels),\n",
        "                               rownames=['True'], colnames=['Predicted'], margins=True)\n",
        "        cf_mat=cf_mat.rename(index={0:'1++',1:'1+',2:'1',3:'2',4:'3'},\n",
        "                      columns={0:'1++',1:'1+',2:'1',3:'2',4:'3'})\n",
        "\n",
        "        print(cf_mat)\n",
        "        print()\n",
        "        print()       \n",
        "        \n",
        "        self.total_acc=[]\n",
        "        for i, label in enumerate(self.label):\n",
        "            array=self.multi_label_confusion_mat[i]\n",
        "            acc=self.per_class_confusion_mat(array, label)\n",
        "            self.total_acc.append(acc)\n",
        "            \n",
        "        print(f\"#-- Final Average Accuracy\")\n",
        "        print(f\"( {self.total_acc[0]} + {self.total_acc[1]} + {self.total_acc[2]} + {self.total_acc[3]} + {self.total_acc[4]} ) / 5 = {np.mean(self.total_acc) :.3f}\")"
      ],
      "execution_count": null,
      "outputs": []
    },
    {
      "cell_type": "code",
      "metadata": {
        "id": "v2v2B3VeX5pi"
      },
      "source": [
        "result= ShowResult(tot_labels, tot_pred_labels)"
      ],
      "execution_count": null,
      "outputs": []
    },
    {
      "cell_type": "code",
      "metadata": {
        "id": "mCd92WmjX5pi",
        "colab": {
          "base_uri": "https://localhost:8080/"
        },
        "outputId": "fa401c4a-f4b0-4f13-f31a-7bcf9c25ec77"
      },
      "source": [
        "result.show_result()"
      ],
      "execution_count": null,
      "outputs": [
        {
          "output_type": "stream",
          "text": [
            "Predicted   1++  1+     1   2   All\n",
            "True                               \n",
            "1++         671  12   297  20  1000\n",
            "1+          622   6   359  13  1000\n",
            "1           642  15   331  12  1000\n",
            "2           413   4   199  11   627\n",
            "3           184   4    71   9   268\n",
            "All        2532  41  1257  65  3895\n",
            "\n",
            "\n",
            "#-- Confusion Matrix for class 1++\n",
            "\n",
            "                Pred      \n",
            "             Non 1++   1++\n",
            "True Non 1++    1034  1861\n",
            "     1++         329   671\n",
            "\n",
            "Accuracy for class 1++ : 43.774\n",
            "-----------------------------------\n",
            "\n",
            "#-- Confusion Matrix for class 1+\n",
            "\n",
            "              Pred    \n",
            "            Non 1+  1+\n",
            "True Non 1+   2860  35\n",
            "     1+        994   6\n",
            "\n",
            "Accuracy for class 1+ : 73.582\n",
            "-----------------------------------\n",
            "\n",
            "#-- Confusion Matrix for class 1\n",
            "\n",
            "            Pred     \n",
            "           Non 1    1\n",
            "True Non 1  1969  926\n",
            "     1       669  331\n",
            "\n",
            "Accuracy for class 1 : 59.05\n",
            "-----------------------------------\n",
            "\n",
            "#-- Confusion Matrix for class 2\n",
            "\n",
            "            Pred    \n",
            "           Non 2   2\n",
            "True Non 2  3214  54\n",
            "     2       616  11\n",
            "\n",
            "Accuracy for class 2 : 82.798\n",
            "-----------------------------------\n",
            "\n",
            "#-- Confusion Matrix for class 3\n",
            "\n",
            "            Pred   \n",
            "           Non 3  3\n",
            "True Non 3  3627  0\n",
            "     3       268  0\n",
            "\n",
            "Accuracy for class 3 : 93.119\n",
            "-----------------------------------\n",
            "\n",
            "#-- Final Average Accuracy\n",
            "( 43.774 + 73.582 + 59.05 + 82.798 + 93.119 ) / 5 = 70.465\n"
          ],
          "name": "stdout"
        }
      ]
    },
    {
      "cell_type": "markdown",
      "metadata": {
        "id": "cgz1fLYvX5pi"
      },
      "source": [
        "---"
      ]
    },
    {
      "cell_type": "markdown",
      "metadata": {
        "id": "9z2HV0-9X5pi"
      },
      "source": [
        "### 2. 기본 모델을 Fine Tuning (학습) 한 모델 성능 평가 (Transfer Learning)"
      ]
    },
    {
      "cell_type": "markdown",
      "metadata": {
        "id": "oRAlHNkfX5pi"
      },
      "source": [
        "### 테스트 이미지 평가 (Predict)"
      ]
    },
    {
      "cell_type": "code",
      "metadata": {
        "id": "4ZZPMJg5X5pj",
        "colab": {
          "base_uri": "https://localhost:8080/"
        },
        "outputId": "b7f0cc89-03c7-4ee5-b790-37c9f7ff3cb8"
      },
      "source": [
        "now = datetime.datetime.now(pytz.timezone('Asia/Seoul'))\n",
        "nowDatetime = now.strftime('%Y-%m-%d %H:%M:%S')\n",
        "print(f'테스트 시작 시간 : {nowDatetime}')"
      ],
      "execution_count": null,
      "outputs": [
        {
          "output_type": "stream",
          "text": [
            "테스트 시작 시간 : 2021-08-10 12:36:18\n"
          ],
          "name": "stdout"
        }
      ]
    },
    {
      "cell_type": "code",
      "metadata": {
        "id": "R-aFPJZgX5pj"
      },
      "source": [
        "since=time.time()"
      ],
      "execution_count": null,
      "outputs": []
    },
    {
      "cell_type": "code",
      "metadata": {
        "id": "WdhqOXmYX5pj",
        "colab": {
          "base_uri": "https://localhost:8080/"
        },
        "outputId": "1606d363-b9f9-45cd-e07a-699a06fa95b1"
      },
      "source": [
        "tot_labels=[]  # 전체 정답 Label 을 저장할 리스트\n",
        "tot_pred_labels=[]  # 전체 예측 Label 을 저장할 리스트\n",
        "\n",
        "# 모델을 device에 올림\n",
        "model=model.to(device)\n",
        "# 네트워크를 evaluation 용으로 선언\n",
        "model=model.eval()\n",
        "\n",
        "# test 이기 때문에 backprop 진행 x\n",
        "with torch.no_grad():\n",
        "    for images, labels in tqdm(test_dataloader):\n",
        "\n",
        "        images=images.to(device)\n",
        "        labels=labels.to(device)\n",
        "\n",
        "        # Model Prediction (forward)\n",
        "        output=model(images)\n",
        "        _, output_index = torch.max(output, 1)    \n",
        "\n",
        "        tot_labels.extend(list(labels.numpy()))\n",
        "        tot_pred_labels.extend(list(output_index.view(-1).numpy()))"
      ],
      "execution_count": null,
      "outputs": [
        {
          "output_type": "stream",
          "text": [
            "100%|██████████| 974/974 [05:08<00:00,  3.16it/s]\n"
          ],
          "name": "stderr"
        }
      ]
    },
    {
      "cell_type": "code",
      "metadata": {
        "id": "g5BRb_nBX5pj",
        "colab": {
          "base_uri": "https://localhost:8080/"
        },
        "outputId": "61b6cfc0-d7ba-4dd0-90ec-76f3491491be"
      },
      "source": [
        "end=time.time()\n",
        "print(f'테스트 소요 시간: {int((end-since)//60)}m {int((end-since)%60)}s')"
      ],
      "execution_count": null,
      "outputs": [
        {
          "output_type": "stream",
          "text": [
            "테스트 소요 시간: 5m 30s\n"
          ],
          "name": "stdout"
        }
      ]
    },
    {
      "cell_type": "code",
      "metadata": {
        "id": "VL--45SAX5pk",
        "colab": {
          "base_uri": "https://localhost:8080/"
        },
        "outputId": "6efd18de-6144-4a24-cc9a-dc9638bccf3a"
      },
      "source": [
        "now = datetime.datetime.now(pytz.timezone('Asia/Seoul'))\n",
        "nowDatetime = now.strftime('%Y-%m-%d %H:%M:%S')\n",
        "print(f'테스트 종료 시간 : {nowDatetime}')"
      ],
      "execution_count": null,
      "outputs": [
        {
          "output_type": "stream",
          "text": [
            "테스트 종료 시간 : 2021-08-10 12:41:51\n"
          ],
          "name": "stdout"
        }
      ]
    },
    {
      "cell_type": "markdown",
      "metadata": {
        "id": "fKsgBNQsX5pk"
      },
      "source": [
        "## Accuracy"
      ]
    },
    {
      "cell_type": "code",
      "metadata": {
        "id": "1E0PxKxcX5pk"
      },
      "source": [
        "result= ShowResult(tot_labels, tot_pred_labels)"
      ],
      "execution_count": null,
      "outputs": []
    },
    {
      "cell_type": "code",
      "metadata": {
        "id": "NrC6Ec5nX5pk",
        "colab": {
          "base_uri": "https://localhost:8080/"
        },
        "outputId": "a384844c-6122-4466-cc15-5504ac39f0c9"
      },
      "source": [
        "result.show_result()"
      ],
      "execution_count": null,
      "outputs": [
        {
          "output_type": "stream",
          "text": [
            "Predicted  1++    1+     1    2    3   All\n",
            "True                                      \n",
            "1++        923    32    33    8    4  1000\n",
            "1+           5   975    17    3    0  1000\n",
            "1           10    28   956    5    1  1000\n",
            "2            2     8     5  607    5   627\n",
            "3            0     0     1    0  267   268\n",
            "All        940  1043  1012  623  277  3895\n",
            "\n",
            "\n",
            "#-- Confusion Matrix for class 1++\n",
            "\n",
            "                Pred     \n",
            "             Non 1++  1++\n",
            "True Non 1++    2878   17\n",
            "     1++          77  923\n",
            "\n",
            "Accuracy for class 1++ : 97.587\n",
            "-----------------------------------\n",
            "\n",
            "#-- Confusion Matrix for class 1+\n",
            "\n",
            "              Pred     \n",
            "            Non 1+   1+\n",
            "True Non 1+   2827   68\n",
            "     1+         25  975\n",
            "\n",
            "Accuracy for class 1+ : 97.612\n",
            "-----------------------------------\n",
            "\n",
            "#-- Confusion Matrix for class 1\n",
            "\n",
            "            Pred     \n",
            "           Non 1    1\n",
            "True Non 1  2839   56\n",
            "     1        44  956\n",
            "\n",
            "Accuracy for class 1 : 97.433\n",
            "-----------------------------------\n",
            "\n",
            "#-- Confusion Matrix for class 2\n",
            "\n",
            "            Pred     \n",
            "           Non 2    2\n",
            "True Non 2  3252   16\n",
            "     2        20  607\n",
            "\n",
            "Accuracy for class 2 : 99.076\n",
            "-----------------------------------\n",
            "\n",
            "#-- Confusion Matrix for class 3\n",
            "\n",
            "            Pred     \n",
            "           Non 3    3\n",
            "True Non 3  3617   10\n",
            "     3         1  267\n",
            "\n",
            "Accuracy for class 3 : 99.718\n",
            "-----------------------------------\n",
            "\n",
            "#-- Final Average Accuracy\n",
            "( 97.587 + 97.612 + 97.433 + 99.076 + 99.718 ) / 5 = 98.285\n"
          ],
          "name": "stdout"
        }
      ]
    }
  ]
}